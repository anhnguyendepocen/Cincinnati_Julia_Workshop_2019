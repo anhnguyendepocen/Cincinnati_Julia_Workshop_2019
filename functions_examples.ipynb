{
 "cells": [
  {
   "cell_type": "markdown",
   "metadata": {},
   "source": [
    "### Getting system info:"
   ]
  },
  {
   "cell_type": "code",
   "execution_count": 1,
   "metadata": {},
   "outputs": [
    {
     "name": "stdout",
     "output_type": "stream",
     "text": [
      "Julia Version 1.1.0\n",
      "Commit 80516ca202 (2019-01-21 21:24 UTC)\n",
      "Platform Info:\n",
      "  OS: Windows (x86_64-w64-mingw32)\n",
      "  CPU: Intel(R) Core(TM) i7-6600U CPU @ 2.60GHz\n",
      "  WORD_SIZE: 64\n",
      "  LIBM: libopenlibm\n",
      "  LLVM: libLLVM-6.0.1 (ORCJIT, skylake)\n"
     ]
    }
   ],
   "source": [
    "versioninfo()"
   ]
  },
  {
   "cell_type": "code",
   "execution_count": 4,
   "metadata": {},
   "outputs": [
    {
     "data": {
      "image/png": "[encoded data removed]",
      "image/svg+xml": [
       "<?xml version=\"1.0\" encoding=\"utf-8\"?>\n",
       "<svg xmlns=\"http://www.w3.org/2000/svg\" xmlns:xlink=\"http://www.w3.org/1999/xlink\" width=\"300\" height=\"200\" viewBox=\"0 0 1200 800\">\n",
       "<defs>\n",
       "  <clipPath id=\"clip0000\">\n",
       "    <rect x=\"0\" y=\"0\" width=\"1200\" height=\"800\"/>\n",
       "  </clipPath>\n",
       "</defs>\n",
       "<polygon clip-path=\"url(#clip0000)\" points=\"\n",
       "0,800 1200,800 1200,0 0,0 \n",
       "  \" fill=\"#ffffff\" fill-rule=\"evenodd\" fill-opacity=\"1\"/>\n",
       "<defs>\n",
       "  <clipPath id=\"clip0001\">\n",
       "    <rect x=\"240\" y=\"0\" width=\"841\" height=\"800\"/>\n",
       "  </clipPath>\n",
       "</defs>\n",
       "<polygon clip-path=\"url(#clip0000)\" points=\"\n",
       "141.898,695.475 1152.76,695.475 1152.76,47.2441 141.898,47.2441 \n",
       "  \" fill=\"#ffffff\" fill-rule=\"evenodd\" fill-opacity=\"1\"/>\n",
       "<defs>\n",
       "  <clipPath id=\"clip0002\">\n",
       "    <rect x=\"141\" y=\"47\" width=\"1012\" height=\"649\"/>\n",
       "  </clipPath>\n",
       "</defs>\n",
       "<polyline clip-path=\"url(#clip0002)\" style=\"stroke:#000000; stroke-width:2; stroke-opacity:0.1; fill:none\" points=\"\n",
       "  142.416,695.475 142.416,47.2441 \n",
       "  \"/>\n",
       "<polyline clip-path=\"url(#clip0002)\" style=\"stroke:#000000; stroke-width:2; stroke-opacity:0.1; fill:none\" points=\"\n",
       "  371.921,695.475 371.921,47.2441 \n",
       "  \"/>\n",
       "<polyline clip-path=\"url(#clip0002)\" style=\"stroke:#000000; stroke-width:2; stroke-opacity:0.1; fill:none\" points=\"\n",
       "  601.426,695.475 601.426,47.2441 \n",
       "  \"/>\n",
       "<polyline clip-path=\"url(#clip0002)\" style=\"stroke:#000000; stroke-width:2; stroke-opacity:0.1; fill:none\" points=\"\n",
       "  830.931,695.475 830.931,47.2441 \n",
       "  \"/>\n",
       "<polyline clip-path=\"url(#clip0002)\" style=\"stroke:#000000; stroke-width:2; stroke-opacity:0.1; fill:none\" points=\"\n",
       "  1060.44,695.475 1060.44,47.2441 \n",
       "  \"/>\n",
       "<polyline clip-path=\"url(#clip0002)\" style=\"stroke:#000000; stroke-width:2; stroke-opacity:0.1; fill:none\" points=\"\n",
       "  141.898,677.129 1152.76,677.129 \n",
       "  \"/>\n",
       "<polyline clip-path=\"url(#clip0002)\" style=\"stroke:#000000; stroke-width:2; stroke-opacity:0.1; fill:none\" points=\"\n",
       "  141.898,547.042 1152.76,547.042 \n",
       "  \"/>\n",
       "<polyline clip-path=\"url(#clip0002)\" style=\"stroke:#000000; stroke-width:2; stroke-opacity:0.1; fill:none\" points=\"\n",
       "  141.898,416.955 1152.76,416.955 \n",
       "  \"/>\n",
       "<polyline clip-path=\"url(#clip0002)\" style=\"stroke:#000000; stroke-width:2; stroke-opacity:0.1; fill:none\" points=\"\n",
       "  141.898,286.869 1152.76,286.869 \n",
       "  \"/>\n",
       "<polyline clip-path=\"url(#clip0002)\" style=\"stroke:#000000; stroke-width:2; stroke-opacity:0.1; fill:none\" points=\"\n",
       "  141.898,156.782 1152.76,156.782 \n",
       "  \"/>\n",
       "<polyline clip-path=\"url(#clip0000)\" style=\"stroke:#000000; stroke-width:4; stroke-opacity:1; fill:none\" points=\"\n",
       "  141.898,695.475 1152.76,695.475 \n",
       "  \"/>\n",
       "<polyline clip-path=\"url(#clip0000)\" style=\"stroke:#000000; stroke-width:4; stroke-opacity:1; fill:none\" points=\"\n",
       "  141.898,695.475 141.898,47.2441 \n",
       "  \"/>\n",
       "<polyline clip-path=\"url(#clip0000)\" style=\"stroke:#000000; stroke-width:4; stroke-opacity:1; fill:none\" points=\"\n",
       "  142.416,695.475 142.416,685.751 \n",
       "  \"/>\n",
       "<polyline clip-path=\"url(#clip0000)\" style=\"stroke:#000000; stroke-width:4; stroke-opacity:1; fill:none\" points=\"\n",
       "  371.921,695.475 371.921,685.751 \n",
       "  \"/>\n",
       "<polyline clip-path=\"url(#clip0000)\" style=\"stroke:#000000; stroke-width:4; stroke-opacity:1; fill:none\" points=\"\n",
       "  601.426,695.475 601.426,685.751 \n",
       "  \"/>\n",
       "<polyline clip-path=\"url(#clip0000)\" style=\"stroke:#000000; stroke-width:4; stroke-opacity:1; fill:none\" points=\"\n",
       "  830.931,695.475 830.931,685.751 \n",
       "  \"/>\n",
       "<polyline clip-path=\"url(#clip0000)\" style=\"stroke:#000000; stroke-width:4; stroke-opacity:1; fill:none\" points=\"\n",
       "  1060.44,695.475 1060.44,685.751 \n",
       "  \"/>\n",
       "<polyline clip-path=\"url(#clip0000)\" style=\"stroke:#000000; stroke-width:4; stroke-opacity:1; fill:none\" points=\"\n",
       "  141.898,677.129 157.061,677.129 \n",
       "  \"/>\n",
       "<polyline clip-path=\"url(#clip0000)\" style=\"stroke:#000000; stroke-width:4; stroke-opacity:1; fill:none\" points=\"\n",
       "  141.898,547.042 157.061,547.042 \n",
       "  \"/>\n",
       "<polyline clip-path=\"url(#clip0000)\" style=\"stroke:#000000; stroke-width:4; stroke-opacity:1; fill:none\" points=\"\n",
       "  141.898,416.955 157.061,416.955 \n",
       "  \"/>\n",
       "<polyline clip-path=\"url(#clip0000)\" style=\"stroke:#000000; stroke-width:4; stroke-opacity:1; fill:none\" points=\"\n",
       "  141.898,286.869 157.061,286.869 \n",
       "  \"/>\n",
       "<polyline clip-path=\"url(#clip0000)\" style=\"stroke:#000000; stroke-width:4; stroke-opacity:1; fill:none\" points=\"\n",
       "  141.898,156.782 157.061,156.782 \n",
       "  \"/>\n",
       "<g clip-path=\"url(#clip0000)\">\n",
       "<text style=\"fill:#000000; fill-opacity:1; font-family:Arial,Helvetica Neue,Helvetica,sans-serif; font-size:48px; text-anchor:middle;\" transform=\"rotate(0, 142.416, 743.475)\" x=\"142.416\" y=\"743.475\">0.0</text>\n",
       "</g>\n",
       "<g clip-path=\"url(#clip0000)\">\n",
       "<text style=\"fill:#000000; fill-opacity:1; font-family:Arial,Helvetica Neue,Helvetica,sans-serif; font-size:48px; text-anchor:middle;\" transform=\"rotate(0, 371.921, 743.475)\" x=\"371.921\" y=\"743.475\">2.5</text>\n",
       "</g>\n",
       "<g clip-path=\"url(#clip0000)\">\n",
       "<text style=\"fill:#000000; fill-opacity:1; font-family:Arial,Helvetica Neue,Helvetica,sans-serif; font-size:48px; text-anchor:middle;\" transform=\"rotate(0, 601.426, 743.475)\" x=\"601.426\" y=\"743.475\">5.0</text>\n",
       "</g>\n",
       "<g clip-path=\"url(#clip0000)\">\n",
       "<text style=\"fill:#000000; fill-opacity:1; font-family:Arial,Helvetica Neue,Helvetica,sans-serif; font-size:48px; text-anchor:middle;\" transform=\"rotate(0, 830.931, 743.475)\" x=\"830.931\" y=\"743.475\">7.5</text>\n",
       "</g>\n",
       "<g clip-path=\"url(#clip0000)\">\n",
       "<text style=\"fill:#000000; fill-opacity:1; font-family:Arial,Helvetica Neue,Helvetica,sans-serif; font-size:48px; text-anchor:middle;\" transform=\"rotate(0, 1060.44, 743.475)\" x=\"1060.44\" y=\"743.475\">10.0</text>\n",
       "</g>\n",
       "<g clip-path=\"url(#clip0000)\">\n",
       "<text style=\"fill:#000000; fill-opacity:1; font-family:Arial,Helvetica Neue,Helvetica,sans-serif; font-size:48px; text-anchor:end;\" transform=\"rotate(0, 129.898, 694.629)\" x=\"129.898\" y=\"694.629\">0.0</text>\n",
       "</g>\n",
       "<g clip-path=\"url(#clip0000)\">\n",
       "<text style=\"fill:#000000; fill-opacity:1; font-family:Arial,Helvetica Neue,Helvetica,sans-serif; font-size:48px; text-anchor:end;\" transform=\"rotate(0, 129.898, 564.542)\" x=\"129.898\" y=\"564.542\">0.2</text>\n",
       "</g>\n",
       "<g clip-path=\"url(#clip0000)\">\n",
       "<text style=\"fill:#000000; fill-opacity:1; font-family:Arial,Helvetica Neue,Helvetica,sans-serif; font-size:48px; text-anchor:end;\" transform=\"rotate(0, 129.898, 434.455)\" x=\"129.898\" y=\"434.455\">0.4</text>\n",
       "</g>\n",
       "<g clip-path=\"url(#clip0000)\">\n",
       "<text style=\"fill:#000000; fill-opacity:1; font-family:Arial,Helvetica Neue,Helvetica,sans-serif; font-size:48px; text-anchor:end;\" transform=\"rotate(0, 129.898, 304.369)\" x=\"129.898\" y=\"304.369\">0.6</text>\n",
       "</g>\n",
       "<g clip-path=\"url(#clip0000)\">\n",
       "<text style=\"fill:#000000; fill-opacity:1; font-family:Arial,Helvetica Neue,Helvetica,sans-serif; font-size:48px; text-anchor:end;\" transform=\"rotate(0, 129.898, 174.282)\" x=\"129.898\" y=\"174.282\">0.8</text>\n",
       "</g>\n",
       "<polygon clip-path=\"url(#clip0002)\" points=\"\n",
       "197.497,297.432 197.497,677.129 270.939,677.129 270.939,297.432 197.497,297.432 197.497,297.432 \n",
       "  \" fill=\"#009af9\" fill-rule=\"evenodd\" fill-opacity=\"1\"/>\n",
       "<polyline clip-path=\"url(#clip0002)\" style=\"stroke:#000000; stroke-width:4; stroke-opacity:1; fill:none\" points=\"\n",
       "  197.497,297.432 197.497,677.129 270.939,677.129 270.939,297.432 197.497,297.432 \n",
       "  \"/>\n",
       "<polygon clip-path=\"url(#clip0002)\" points=\"\n",
       "289.299,416.163 289.299,677.129 362.741,677.129 362.741,416.163 289.299,416.163 289.299,416.163 \n",
       "  \" fill=\"#e26f46\" fill-rule=\"evenodd\" fill-opacity=\"1\"/>\n",
       "<polyline clip-path=\"url(#clip0002)\" style=\"stroke:#000000; stroke-width:4; stroke-opacity:1; fill:none\" points=\"\n",
       "  289.299,416.163 289.299,677.129 362.741,677.129 362.741,416.163 289.299,416.163 \n",
       "  \"/>\n",
       "<polygon clip-path=\"url(#clip0002)\" points=\"\n",
       "381.101,587.174 381.101,677.129 454.543,677.129 454.543,587.174 381.101,587.174 381.101,587.174 \n",
       "  \" fill=\"#3da44d\" fill-rule=\"evenodd\" fill-opacity=\"1\"/>\n",
       "<polyline clip-path=\"url(#clip0002)\" style=\"stroke:#000000; stroke-width:4; stroke-opacity:1; fill:none\" points=\"\n",
       "  381.101,587.174 381.101,677.129 454.543,677.129 454.543,587.174 381.101,587.174 \n",
       "  \"/>\n",
       "<polygon clip-path=\"url(#clip0002)\" points=\"\n",
       "472.903,658.002 472.903,677.129 546.345,677.129 546.345,658.002 472.903,658.002 472.903,658.002 \n",
       "  \" fill=\"#c271d2\" fill-rule=\"evenodd\" fill-opacity=\"1\"/>\n",
       "<polyline clip-path=\"url(#clip0002)\" style=\"stroke:#000000; stroke-width:4; stroke-opacity:1; fill:none\" points=\"\n",
       "  472.903,658.002 472.903,677.129 546.345,677.129 546.345,658.002 472.903,658.002 \n",
       "  \"/>\n",
       "<polygon clip-path=\"url(#clip0002)\" points=\"\n",
       "564.705,65.5902 564.705,677.129 638.147,677.129 638.147,65.5902 564.705,65.5902 564.705,65.5902 \n",
       "  \" fill=\"#ac8d18\" fill-rule=\"evenodd\" fill-opacity=\"1\"/>\n",
       "<polyline clip-path=\"url(#clip0002)\" style=\"stroke:#000000; stroke-width:4; stroke-opacity:1; fill:none\" points=\"\n",
       "  564.705,65.5902 564.705,677.129 638.147,677.129 638.147,65.5902 564.705,65.5902 \n",
       "  \"/>\n",
       "<polygon clip-path=\"url(#clip0002)\" points=\"\n",
       "656.507,251.077 656.507,677.129 729.949,677.129 729.949,251.077 656.507,251.077 656.507,251.077 \n",
       "  \" fill=\"#00a9ad\" fill-rule=\"evenodd\" fill-opacity=\"1\"/>\n",
       "<polyline clip-path=\"url(#clip0002)\" style=\"stroke:#000000; stroke-width:4; stroke-opacity:1; fill:none\" points=\"\n",
       "  656.507,251.077 656.507,677.129 729.949,677.129 729.949,251.077 656.507,251.077 \n",
       "  \"/>\n",
       "<polygon clip-path=\"url(#clip0002)\" points=\"\n",
       "748.309,275.09 748.309,677.129 821.751,677.129 821.751,275.09 748.309,275.09 748.309,275.09 \n",
       "  \" fill=\"#ed5d92\" fill-rule=\"evenodd\" fill-opacity=\"1\"/>\n",
       "<polyline clip-path=\"url(#clip0002)\" style=\"stroke:#000000; stroke-width:4; stroke-opacity:1; fill:none\" points=\"\n",
       "  748.309,275.09 748.309,677.129 821.751,677.129 821.751,275.09 748.309,275.09 \n",
       "  \"/>\n",
       "<polygon clip-path=\"url(#clip0002)\" points=\"\n",
       "840.111,232.163 840.111,677.129 913.553,677.129 913.553,232.163 840.111,232.163 840.111,232.163 \n",
       "  \" fill=\"#c68125\" fill-rule=\"evenodd\" fill-opacity=\"1\"/>\n",
       "<polyline clip-path=\"url(#clip0002)\" style=\"stroke:#000000; stroke-width:4; stroke-opacity:1; fill:none\" points=\"\n",
       "  840.111,232.163 840.111,677.129 913.553,677.129 913.553,232.163 840.111,232.163 \n",
       "  \"/>\n",
       "<polygon clip-path=\"url(#clip0002)\" points=\"\n",
       "931.913,381.223 931.913,677.129 1005.35,677.129 1005.35,381.223 931.913,381.223 931.913,381.223 \n",
       "  \" fill=\"#00a98d\" fill-rule=\"evenodd\" fill-opacity=\"1\"/>\n",
       "<polyline clip-path=\"url(#clip0002)\" style=\"stroke:#000000; stroke-width:4; stroke-opacity:1; fill:none\" points=\"\n",
       "  931.913,381.223 931.913,677.129 1005.35,677.129 1005.35,381.223 931.913,381.223 \n",
       "  \"/>\n",
       "<polygon clip-path=\"url(#clip0002)\" points=\"\n",
       "1023.72,316.218 1023.72,677.129 1097.16,677.129 1097.16,316.218 1023.72,316.218 1023.72,316.218 \n",
       "  \" fill=\"#8e971d\" fill-rule=\"evenodd\" fill-opacity=\"1\"/>\n",
       "<polyline clip-path=\"url(#clip0002)\" style=\"stroke:#000000; stroke-width:4; stroke-opacity:1; fill:none\" points=\"\n",
       "  1023.72,316.218 1023.72,677.129 1097.16,677.129 1097.16,316.218 1023.72,316.218 \n",
       "  \"/>\n",
       "<polygon clip-path=\"url(#clip0000)\" points=\"\n",
       "177.898,179.724 506.606,179.724 506.606,58.7641 177.898,58.7641 \n",
       "  \" fill=\"#ffffff\" fill-rule=\"evenodd\" fill-opacity=\"1\"/>\n",
       "<polyline clip-path=\"url(#clip0000)\" style=\"stroke:#000000; stroke-width:4; stroke-opacity:1; fill:none\" points=\"\n",
       "  177.898,179.724 506.606,179.724 506.606,58.7641 177.898,58.7641 177.898,179.724 \n",
       "  \"/>\n",
       "<polygon clip-path=\"url(#clip0000)\" points=\"\n",
       "189.898,143.436 261.898,143.436 261.898,95.0521 189.898,95.0521 189.898,143.436 \n",
       "  \" fill=\"#009af9\" fill-rule=\"evenodd\" fill-opacity=\"1\"/>\n",
       "<polyline clip-path=\"url(#clip0000)\" style=\"stroke:#000000; stroke-width:4; stroke-opacity:1; fill:none\" points=\"\n",
       "  189.898,143.436 261.898,143.436 261.898,95.0521 189.898,95.0521 189.898,143.436 \n",
       "  \"/>\n",
       "<g clip-path=\"url(#clip0000)\">\n",
       "<text style=\"fill:#000000; fill-opacity:1; font-family:Arial,Helvetica Neue,Helvetica,sans-serif; font-size:48px; text-anchor:start;\" transform=\"rotate(0, 273.898, 136.744)\" x=\"273.898\" y=\"136.744\">nonsense</text>\n",
       "</g>\n",
       "</svg>\n"
      ],
      "text/html": [
       "<?xml version=\"1.0\" encoding=\"utf-8\"?>\n",
       "<svg xmlns=\"http://www.w3.org/2000/svg\" xmlns:xlink=\"http://www.w3.org/1999/xlink\" width=\"300\" height=\"200\" viewBox=\"0 0 1200 800\">\n",
       "<defs>\n",
       "  <clipPath id=\"clip0500\">\n",
       "    <rect x=\"0\" y=\"0\" width=\"1200\" height=\"800\"/>\n",
       "  </clipPath>\n",
       "</defs>\n",
       "<polygon clip-path=\"url(#clip0500)\" points=\"\n",
       "0,800 1200,800 1200,0 0,0 \n",
       "  \" fill=\"#ffffff\" fill-rule=\"evenodd\" fill-opacity=\"1\"/>\n",
       "<defs>\n",
       "  <clipPath id=\"clip0501\">\n",
       "    <rect x=\"240\" y=\"0\" width=\"841\" height=\"800\"/>\n",
       "  </clipPath>\n",
       "</defs>\n",
       "<polygon clip-path=\"url(#clip0500)\" points=\"\n",
       "141.898,695.475 1152.76,695.475 1152.76,47.2441 141.898,47.2441 \n",
       "  \" fill=\"#ffffff\" fill-rule=\"evenodd\" fill-opacity=\"1\"/>\n",
       "<defs>\n",
       "  <clipPath id=\"clip0502\">\n",
       "    <rect x=\"141\" y=\"47\" width=\"1012\" height=\"649\"/>\n",
       "  </clipPath>\n",
       "</defs>\n",
       "<polyline clip-path=\"url(#clip0502)\" style=\"stroke:#000000; stroke-width:2; stroke-opacity:0.1; fill:none\" points=\"\n",
       "  142.416,695.475 142.416,47.2441 \n",
       "  \"/>\n",
       "<polyline clip-path=\"url(#clip0502)\" style=\"stroke:#000000; stroke-width:2; stroke-opacity:0.1; fill:none\" points=\"\n",
       "  371.921,695.475 371.921,47.2441 \n",
       "  \"/>\n",
       "<polyline clip-path=\"url(#clip0502)\" style=\"stroke:#000000; stroke-width:2; stroke-opacity:0.1; fill:none\" points=\"\n",
       "  601.426,695.475 601.426,47.2441 \n",
       "  \"/>\n",
       "<polyline clip-path=\"url(#clip0502)\" style=\"stroke:#000000; stroke-width:2; stroke-opacity:0.1; fill:none\" points=\"\n",
       "  830.931,695.475 830.931,47.2441 \n",
       "  \"/>\n",
       "<polyline clip-path=\"url(#clip0502)\" style=\"stroke:#000000; stroke-width:2; stroke-opacity:0.1; fill:none\" points=\"\n",
       "  1060.44,695.475 1060.44,47.2441 \n",
       "  \"/>\n",
       "<polyline clip-path=\"url(#clip0502)\" style=\"stroke:#000000; stroke-width:2; stroke-opacity:0.1; fill:none\" points=\"\n",
       "  141.898,677.129 1152.76,677.129 \n",
       "  \"/>\n",
       "<polyline clip-path=\"url(#clip0502)\" style=\"stroke:#000000; stroke-width:2; stroke-opacity:0.1; fill:none\" points=\"\n",
       "  141.898,547.042 1152.76,547.042 \n",
       "  \"/>\n",
       "<polyline clip-path=\"url(#clip0502)\" style=\"stroke:#000000; stroke-width:2; stroke-opacity:0.1; fill:none\" points=\"\n",
       "  141.898,416.955 1152.76,416.955 \n",
       "  \"/>\n",
       "<polyline clip-path=\"url(#clip0502)\" style=\"stroke:#000000; stroke-width:2; stroke-opacity:0.1; fill:none\" points=\"\n",
       "  141.898,286.869 1152.76,286.869 \n",
       "  \"/>\n",
       "<polyline clip-path=\"url(#clip0502)\" style=\"stroke:#000000; stroke-width:2; stroke-opacity:0.1; fill:none\" points=\"\n",
       "  141.898,156.782 1152.76,156.782 \n",
       "  \"/>\n",
       "<polyline clip-path=\"url(#clip0500)\" style=\"stroke:#000000; stroke-width:4; stroke-opacity:1; fill:none\" points=\"\n",
       "  141.898,695.475 1152.76,695.475 \n",
       "  \"/>\n",
       "<polyline clip-path=\"url(#clip0500)\" style=\"stroke:#000000; stroke-width:4; stroke-opacity:1; fill:none\" points=\"\n",
       "  141.898,695.475 141.898,47.2441 \n",
       "  \"/>\n",
       "<polyline clip-path=\"url(#clip0500)\" style=\"stroke:#000000; stroke-width:4; stroke-opacity:1; fill:none\" points=\"\n",
       "  142.416,695.475 142.416,685.751 \n",
       "  \"/>\n",
       "<polyline clip-path=\"url(#clip0500)\" style=\"stroke:#000000; stroke-width:4; stroke-opacity:1; fill:none\" points=\"\n",
       "  371.921,695.475 371.921,685.751 \n",
       "  \"/>\n",
       "<polyline clip-path=\"url(#clip0500)\" style=\"stroke:#000000; stroke-width:4; stroke-opacity:1; fill:none\" points=\"\n",
       "  601.426,695.475 601.426,685.751 \n",
       "  \"/>\n",
       "<polyline clip-path=\"url(#clip0500)\" style=\"stroke:#000000; stroke-width:4; stroke-opacity:1; fill:none\" points=\"\n",
       "  830.931,695.475 830.931,685.751 \n",
       "  \"/>\n",
       "<polyline clip-path=\"url(#clip0500)\" style=\"stroke:#000000; stroke-width:4; stroke-opacity:1; fill:none\" points=\"\n",
       "  1060.44,695.475 1060.44,685.751 \n",
       "  \"/>\n",
       "<polyline clip-path=\"url(#clip0500)\" style=\"stroke:#000000; stroke-width:4; stroke-opacity:1; fill:none\" points=\"\n",
       "  141.898,677.129 157.061,677.129 \n",
       "  \"/>\n",
       "<polyline clip-path=\"url(#clip0500)\" style=\"stroke:#000000; stroke-width:4; stroke-opacity:1; fill:none\" points=\"\n",
       "  141.898,547.042 157.061,547.042 \n",
       "  \"/>\n",
       "<polyline clip-path=\"url(#clip0500)\" style=\"stroke:#000000; stroke-width:4; stroke-opacity:1; fill:none\" points=\"\n",
       "  141.898,416.955 157.061,416.955 \n",
       "  \"/>\n",
       "<polyline clip-path=\"url(#clip0500)\" style=\"stroke:#000000; stroke-width:4; stroke-opacity:1; fill:none\" points=\"\n",
       "  141.898,286.869 157.061,286.869 \n",
       "  \"/>\n",
       "<polyline clip-path=\"url(#clip0500)\" style=\"stroke:#000000; stroke-width:4; stroke-opacity:1; fill:none\" points=\"\n",
       "  141.898,156.782 157.061,156.782 \n",
       "  \"/>\n",
       "<g clip-path=\"url(#clip0500)\">\n",
       "<text style=\"fill:#000000; fill-opacity:1; font-family:Arial,Helvetica Neue,Helvetica,sans-serif; font-size:48px; text-anchor:middle;\" transform=\"rotate(0, 142.416, 743.475)\" x=\"142.416\" y=\"743.475\">0.0</text>\n",
       "</g>\n",
       "<g clip-path=\"url(#clip0500)\">\n",
       "<text style=\"fill:#000000; fill-opacity:1; font-family:Arial,Helvetica Neue,Helvetica,sans-serif; font-size:48px; text-anchor:middle;\" transform=\"rotate(0, 371.921, 743.475)\" x=\"371.921\" y=\"743.475\">2.5</text>\n",
       "</g>\n",
       "<g clip-path=\"url(#clip0500)\">\n",
       "<text style=\"fill:#000000; fill-opacity:1; font-family:Arial,Helvetica Neue,Helvetica,sans-serif; font-size:48px; text-anchor:middle;\" transform=\"rotate(0, 601.426, 743.475)\" x=\"601.426\" y=\"743.475\">5.0</text>\n",
       "</g>\n",
       "<g clip-path=\"url(#clip0500)\">\n",
       "<text style=\"fill:#000000; fill-opacity:1; font-family:Arial,Helvetica Neue,Helvetica,sans-serif; font-size:48px; text-anchor:middle;\" transform=\"rotate(0, 830.931, 743.475)\" x=\"830.931\" y=\"743.475\">7.5</text>\n",
       "</g>\n",
       "<g clip-path=\"url(#clip0500)\">\n",
       "<text style=\"fill:#000000; fill-opacity:1; font-family:Arial,Helvetica Neue,Helvetica,sans-serif; font-size:48px; text-anchor:middle;\" transform=\"rotate(0, 1060.44, 743.475)\" x=\"1060.44\" y=\"743.475\">10.0</text>\n",
       "</g>\n",
       "<g clip-path=\"url(#clip0500)\">\n",
       "<text style=\"fill:#000000; fill-opacity:1; font-family:Arial,Helvetica Neue,Helvetica,sans-serif; font-size:48px; text-anchor:end;\" transform=\"rotate(0, 129.898, 694.629)\" x=\"129.898\" y=\"694.629\">0.0</text>\n",
       "</g>\n",
       "<g clip-path=\"url(#clip0500)\">\n",
       "<text style=\"fill:#000000; fill-opacity:1; font-family:Arial,Helvetica Neue,Helvetica,sans-serif; font-size:48px; text-anchor:end;\" transform=\"rotate(0, 129.898, 564.542)\" x=\"129.898\" y=\"564.542\">0.2</text>\n",
       "</g>\n",
       "<g clip-path=\"url(#clip0500)\">\n",
       "<text style=\"fill:#000000; fill-opacity:1; font-family:Arial,Helvetica Neue,Helvetica,sans-serif; font-size:48px; text-anchor:end;\" transform=\"rotate(0, 129.898, 434.455)\" x=\"129.898\" y=\"434.455\">0.4</text>\n",
       "</g>\n",
       "<g clip-path=\"url(#clip0500)\">\n",
       "<text style=\"fill:#000000; fill-opacity:1; font-family:Arial,Helvetica Neue,Helvetica,sans-serif; font-size:48px; text-anchor:end;\" transform=\"rotate(0, 129.898, 304.369)\" x=\"129.898\" y=\"304.369\">0.6</text>\n",
       "</g>\n",
       "<g clip-path=\"url(#clip0500)\">\n",
       "<text style=\"fill:#000000; fill-opacity:1; font-family:Arial,Helvetica Neue,Helvetica,sans-serif; font-size:48px; text-anchor:end;\" transform=\"rotate(0, 129.898, 174.282)\" x=\"129.898\" y=\"174.282\">0.8</text>\n",
       "</g>\n",
       "<polygon clip-path=\"url(#clip0502)\" points=\"\n",
       "197.497,297.432 197.497,677.129 270.939,677.129 270.939,297.432 197.497,297.432 197.497,297.432 \n",
       "  \" fill=\"#009af9\" fill-rule=\"evenodd\" fill-opacity=\"1\"/>\n",
       "<polyline clip-path=\"url(#clip0502)\" style=\"stroke:#000000; stroke-width:4; stroke-opacity:1; fill:none\" points=\"\n",
       "  197.497,297.432 197.497,677.129 270.939,677.129 270.939,297.432 197.497,297.432 \n",
       "  \"/>\n",
       "<polygon clip-path=\"url(#clip0502)\" points=\"\n",
       "289.299,416.163 289.299,677.129 362.741,677.129 362.741,416.163 289.299,416.163 289.299,416.163 \n",
       "  \" fill=\"#e26f46\" fill-rule=\"evenodd\" fill-opacity=\"1\"/>\n",
       "<polyline clip-path=\"url(#clip0502)\" style=\"stroke:#000000; stroke-width:4; stroke-opacity:1; fill:none\" points=\"\n",
       "  289.299,416.163 289.299,677.129 362.741,677.129 362.741,416.163 289.299,416.163 \n",
       "  \"/>\n",
       "<polygon clip-path=\"url(#clip0502)\" points=\"\n",
       "381.101,587.174 381.101,677.129 454.543,677.129 454.543,587.174 381.101,587.174 381.101,587.174 \n",
       "  \" fill=\"#3da44d\" fill-rule=\"evenodd\" fill-opacity=\"1\"/>\n",
       "<polyline clip-path=\"url(#clip0502)\" style=\"stroke:#000000; stroke-width:4; stroke-opacity:1; fill:none\" points=\"\n",
       "  381.101,587.174 381.101,677.129 454.543,677.129 454.543,587.174 381.101,587.174 \n",
       "  \"/>\n",
       "<polygon clip-path=\"url(#clip0502)\" points=\"\n",
       "472.903,658.002 472.903,677.129 546.345,677.129 546.345,658.002 472.903,658.002 472.903,658.002 \n",
       "  \" fill=\"#c271d2\" fill-rule=\"evenodd\" fill-opacity=\"1\"/>\n",
       "<polyline clip-path=\"url(#clip0502)\" style=\"stroke:#000000; stroke-width:4; stroke-opacity:1; fill:none\" points=\"\n",
       "  472.903,658.002 472.903,677.129 546.345,677.129 546.345,658.002 472.903,658.002 \n",
       "  \"/>\n",
       "<polygon clip-path=\"url(#clip0502)\" points=\"\n",
       "564.705,65.5902 564.705,677.129 638.147,677.129 638.147,65.5902 564.705,65.5902 564.705,65.5902 \n",
       "  \" fill=\"#ac8d18\" fill-rule=\"evenodd\" fill-opacity=\"1\"/>\n",
       "<polyline clip-path=\"url(#clip0502)\" style=\"stroke:#000000; stroke-width:4; stroke-opacity:1; fill:none\" points=\"\n",
       "  564.705,65.5902 564.705,677.129 638.147,677.129 638.147,65.5902 564.705,65.5902 \n",
       "  \"/>\n",
       "<polygon clip-path=\"url(#clip0502)\" points=\"\n",
       "656.507,251.077 656.507,677.129 729.949,677.129 729.949,251.077 656.507,251.077 656.507,251.077 \n",
       "  \" fill=\"#00a9ad\" fill-rule=\"evenodd\" fill-opacity=\"1\"/>\n",
       "<polyline clip-path=\"url(#clip0502)\" style=\"stroke:#000000; stroke-width:4; stroke-opacity:1; fill:none\" points=\"\n",
       "  656.507,251.077 656.507,677.129 729.949,677.129 729.949,251.077 656.507,251.077 \n",
       "  \"/>\n",
       "<polygon clip-path=\"url(#clip0502)\" points=\"\n",
       "748.309,275.09 748.309,677.129 821.751,677.129 821.751,275.09 748.309,275.09 748.309,275.09 \n",
       "  \" fill=\"#ed5d92\" fill-rule=\"evenodd\" fill-opacity=\"1\"/>\n",
       "<polyline clip-path=\"url(#clip0502)\" style=\"stroke:#000000; stroke-width:4; stroke-opacity:1; fill:none\" points=\"\n",
       "  748.309,275.09 748.309,677.129 821.751,677.129 821.751,275.09 748.309,275.09 \n",
       "  \"/>\n",
       "<polygon clip-path=\"url(#clip0502)\" points=\"\n",
       "840.111,232.163 840.111,677.129 913.553,677.129 913.553,232.163 840.111,232.163 840.111,232.163 \n",
       "  \" fill=\"#c68125\" fill-rule=\"evenodd\" fill-opacity=\"1\"/>\n",
       "<polyline clip-path=\"url(#clip0502)\" style=\"stroke:#000000; stroke-width:4; stroke-opacity:1; fill:none\" points=\"\n",
       "  840.111,232.163 840.111,677.129 913.553,677.129 913.553,232.163 840.111,232.163 \n",
       "  \"/>\n",
       "<polygon clip-path=\"url(#clip0502)\" points=\"\n",
       "931.913,381.223 931.913,677.129 1005.35,677.129 1005.35,381.223 931.913,381.223 931.913,381.223 \n",
       "  \" fill=\"#00a98d\" fill-rule=\"evenodd\" fill-opacity=\"1\"/>\n",
       "<polyline clip-path=\"url(#clip0502)\" style=\"stroke:#000000; stroke-width:4; stroke-opacity:1; fill:none\" points=\"\n",
       "  931.913,381.223 931.913,677.129 1005.35,677.129 1005.35,381.223 931.913,381.223 \n",
       "  \"/>\n",
       "<polygon clip-path=\"url(#clip0502)\" points=\"\n",
       "1023.72,316.218 1023.72,677.129 1097.16,677.129 1097.16,316.218 1023.72,316.218 1023.72,316.218 \n",
       "  \" fill=\"#8e971d\" fill-rule=\"evenodd\" fill-opacity=\"1\"/>\n",
       "<polyline clip-path=\"url(#clip0502)\" style=\"stroke:#000000; stroke-width:4; stroke-opacity:1; fill:none\" points=\"\n",
       "  1023.72,316.218 1023.72,677.129 1097.16,677.129 1097.16,316.218 1023.72,316.218 \n",
       "  \"/>\n",
       "<polygon clip-path=\"url(#clip0500)\" points=\"\n",
       "177.898,179.724 506.606,179.724 506.606,58.7641 177.898,58.7641 \n",
       "  \" fill=\"#ffffff\" fill-rule=\"evenodd\" fill-opacity=\"1\"/>\n",
       "<polyline clip-path=\"url(#clip0500)\" style=\"stroke:#000000; stroke-width:4; stroke-opacity:1; fill:none\" points=\"\n",
       "  177.898,179.724 506.606,179.724 506.606,58.7641 177.898,58.7641 177.898,179.724 \n",
       "  \"/>\n",
       "<polygon clip-path=\"url(#clip0500)\" points=\"\n",
       "189.898,143.436 261.898,143.436 261.898,95.0521 189.898,95.0521 189.898,143.436 \n",
       "  \" fill=\"#009af9\" fill-rule=\"evenodd\" fill-opacity=\"1\"/>\n",
       "<polyline clip-path=\"url(#clip0500)\" style=\"stroke:#000000; stroke-width:4; stroke-opacity:1; fill:none\" points=\"\n",
       "  189.898,143.436 261.898,143.436 261.898,95.0521 189.898,95.0521 189.898,143.436 \n",
       "  \"/>\n",
       "<g clip-path=\"url(#clip0500)\">\n",
       "<text style=\"fill:#000000; fill-opacity:1; font-family:Arial,Helvetica Neue,Helvetica,sans-serif; font-size:48px; text-anchor:start;\" transform=\"rotate(0, 273.898, 136.744)\" x=\"273.898\" y=\"136.744\">nonsense</text>\n",
       "</g>\n",
       "</svg>\n"
      ],
      "text/plain": [
       "Plot{Plots.GRBackend() n=1}"
      ]
     },
     "execution_count": 4,
     "metadata": {},
     "output_type": "execute_result"
    }
   ],
   "source": [
    "# colored bar chart:\n",
    "bar(rand(10); fillcolor = 1:10, size=(300,200), label=\"nonsense\",legend=:topleft)"
   ]
  },
  {
   "cell_type": "code",
   "execution_count": 7,
   "metadata": {},
   "outputs": [
    {
     "data": {
      "text/plain": [
       "10×2 Array{Int64,2}:\n",
       "  1    1\n",
       "  2    4\n",
       "  3    9\n",
       "  4   16\n",
       "  5   25\n",
       "  6   36\n",
       "  7   49\n",
       "  8   64\n",
       "  9   81\n",
       " 10  100"
      ]
     },
     "execution_count": 7,
     "metadata": {},
     "output_type": "execute_result"
    }
   ],
   "source": [
    "# List Comprehension\n",
    "x = 1:10;\n",
    "x_squared = [z^2 for z in x];\n",
    "[x x_squared]"
   ]
  },
  {
   "cell_type": "markdown",
   "metadata": {},
   "source": [
    "### Functions and multiple dispatch\n",
    "Overloading is when you have a different number of arguments\n",
    "Multiple dispatch is when the arguments are different types."
   ]
  },
  {
   "cell_type": "code",
   "execution_count": 6,
   "metadata": {},
   "outputs": [
    {
     "data": {
      "text/plain": [
       "sum_abs (generic function with 1 method)"
      ]
     },
     "execution_count": 6,
     "metadata": {},
     "output_type": "execute_result"
    }
   ],
   "source": [
    "# Start with one definition of the function\n",
    "sum_abs(x, y) = sqrt(x^2) + sqrt(y^2)"
   ]
  },
  {
   "cell_type": "code",
   "execution_count": 30,
   "metadata": {},
   "outputs": [
    {
     "data": {
      "text/plain": [
       "sum_abs (generic function with 5 methods)"
      ]
     },
     "execution_count": 30,
     "metadata": {},
     "output_type": "execute_result"
    }
   ],
   "source": [
    "# overloading by adding another argument:\n",
    "sum_abs(x, y, z) = sqrt(x^2) + sqrt(y^2) + sqrt(z^2)"
   ]
  },
  {
   "cell_type": "code",
   "execution_count": 31,
   "metadata": {},
   "outputs": [
    {
     "name": "stdout",
     "output_type": "stream",
     "text": [
      "sum_abs(1, 2.0) = 2.5\n",
      "sum_abs(1, 2.0, 4) = 7.0\n"
     ]
    },
    {
     "data": {
      "text/plain": [
       "7.0"
      ]
     },
     "execution_count": 31,
     "metadata": {},
     "output_type": "execute_result"
    }
   ],
   "source": [
    "@show(sum_abs(1, 2.0))\n",
    "@show(sum_abs(1, 2.0, 4))"
   ]
  },
  {
   "cell_type": "code",
   "execution_count": 23,
   "metadata": {},
   "outputs": [
    {
     "data": {
      "text/plain": [
       "sum_abs (generic function with 4 methods)"
      ]
     },
     "execution_count": 23,
     "metadata": {},
     "output_type": "execute_result"
    }
   ],
   "source": [
    "function sum_abs(x::Int, y::Int)\n",
    "    d = x + y + 5\n",
    "    return d\n",
    "end\n"
   ]
  },
  {
   "cell_type": "code",
   "execution_count": 24,
   "metadata": {},
   "outputs": [
    {
     "name": "stdout",
     "output_type": "stream",
     "text": [
      "sum_abs(1, 2) = 8\n",
      "sum_abs(1.0, 2.0) = 4.0\n"
     ]
    },
    {
     "data": {
      "text/plain": [
       "4.0"
      ]
     },
     "execution_count": 24,
     "metadata": {},
     "output_type": "execute_result"
    }
   ],
   "source": [
    "@show(sum_abs(1, 2))\n",
    "@show(sum_abs(1.0, 2.0))"
   ]
  },
  {
   "cell_type": "code",
   "execution_count": 25,
   "metadata": {},
   "outputs": [
    {
     "data": {
      "text/plain": [
       "sum_abs (generic function with 4 methods)"
      ]
     },
     "execution_count": 25,
     "metadata": {},
     "output_type": "execute_result"
    }
   ],
   "source": [
    "function sum_abs(x::Int, y::Real)\n",
    "    d = x/abs(y) + 2.0\n",
    "    return d\n",
    "end\n"
   ]
  },
  {
   "cell_type": "code",
   "execution_count": 26,
   "metadata": {},
   "outputs": [
    {
     "name": "stdout",
     "output_type": "stream",
     "text": [
      "sum_abs(1, 2) = 8\n",
      "sum_abs(1.0, 2.0) = 4.0\n",
      "sum_abs(1, 2.0) = 2.5\n"
     ]
    },
    {
     "data": {
      "text/plain": [
       "2.5"
      ]
     },
     "execution_count": 26,
     "metadata": {},
     "output_type": "execute_result"
    }
   ],
   "source": [
    "@show(sum_abs(1, 2))\n",
    "@show(sum_abs(1.0, 2.0))\n",
    "@show(sum_abs(1, 2.0))"
   ]
  },
  {
   "cell_type": "code",
   "execution_count": 27,
   "metadata": {},
   "outputs": [
    {
     "data": {
      "text/plain": [
       "sum_abs (generic function with 4 methods)"
      ]
     },
     "execution_count": 27,
     "metadata": {},
     "output_type": "execute_result"
    }
   ],
   "source": [
    "### We can pretend we are using Matlab and nail everything down into a Float64 box:\n",
    "function sum_abs(x::Float64, y::Float64)\n",
    "    d = abs(x*y) + 2.0\n",
    "    return d\n",
    "end"
   ]
  },
  {
   "cell_type": "code",
   "execution_count": 28,
   "metadata": {},
   "outputs": [
    {
     "name": "stdout",
     "output_type": "stream",
     "text": [
      "sum_abs(1, 2) = 8\n",
      "sum_abs(1.0, 2) = 3.0\n",
      "sum_abs(1, 2.0) = 2.5\n",
      "sum_abs(1.0, 2.0) = 4.0"
     ]
    },
    {
     "data": {
      "text/plain": [
       "4.0"
      ]
     },
     "execution_count": 28,
     "metadata": {},
     "output_type": "execute_result"
    },
    {
     "name": "stdout",
     "output_type": "stream",
     "text": [
      "\n"
     ]
    }
   ],
   "source": [
    "@show(sum_abs(1, 2))\n",
    "@show(sum_abs(1.0, 2))\n",
    "@show(sum_abs(1, 2.0))\n",
    "@show(sum_abs(1.0, 2.0))"
   ]
  },
  {
   "cell_type": "code",
   "execution_count": null,
   "metadata": {},
   "outputs": [],
   "source": []
  }
 ],
 "metadata": {
  "kernelspec": {
   "display_name": "Julia 1.1.0",
   "language": "julia",
   "name": "julia-1.1"
  },
  "language_info": {
   "file_extension": ".jl",
   "mimetype": "application/julia",
   "name": "julia",
   "version": "1.1.0"
  }
 },
 "nbformat": 4,
 "nbformat_minor": 2
}
