{
 "cells": [
  {
   "cell_type": "markdown",
   "metadata": {},
   "source": [
    "# \"Hello Julia\" -- An Interactive Look at My First Experience with the MIT Incubated Open Source Programming Language"
   ]
  },
  {
   "cell_type": "markdown",
   "metadata": {},
   "source": [
    "## Abstract"
   ]
  },
  {
   "cell_type": "markdown",
   "metadata": {},
   "source": [
    "The Julia language is approximately seven years old.  Many PhUSE members have not been introduced to it yet.  Python and R may be a bit more familiar.  Jupyter Notebooks enable the running of Julia, Python and R scripts.  Julia is a very fast, dynamic and easy-to-learn programming language, it can be utilized to perform general programming tasks, write UIs, perform machine learning, compile code statically or deploy to a web server, and fully supports all aspects of programming for data science.\n",
    "\n",
    "This presentation will walk through some simple programming code to produce output in Julia's REPL command line environment.  The focus will then move to running Julia code within a Jupyter Notebook for executing general ETL tasks like reading data, transforming it for analysis and producing data visualizations.  During the conclusion, we shall discuss ways to utilize Julia in our traditional and day-to-day projects."
   ]
  },
  {
   "cell_type": "markdown",
   "metadata": {
    "raw_mimetype": "text/markdown"
   },
   "source": [
    "**Project:          **  Julia Proof of Concept using FAERS Data \n",
    "\n",
    "**Notebook Name:    **  Hello Julia\n",
    "\n",
    "**Data Scientists:  **  Richard Bryant, Chris Hurley\n",
    "\n",
    "**Purpose:          **  ETL and Analytics\n",
    "\n",
    "**Macros called:    **  There are no standard or external macros or functions called within this notebook\n",
    "\n",
    "**Limitations:      **  Ensure that any installed packages and functions are not deprecated \n",
    "\n",
    "**Versions:         **  Julia 1.0.3\n",
    "\n",
    "**Platform:         **  Datacise 1.0\n",
    "\n",
    "**Development date: **  14JUN2019\n",
    "\n",
    "**Notes:            **  Utilize GitHub to version this Jupyter Notebook"
   ]
  },
  {
   "cell_type": "markdown",
   "metadata": {},
   "source": [
    "#### Procedure\n",
    "\n",
    "* Data are downloaded from the FAERS website: https://fis.fda.gov/extensions/FPD-QDE-FAERS/FPD-QDE-FAERS.html\n",
    "* Data are uploaded manually to the Microsoft Azure Blob Storage Containter \"faerspoc\".\n",
    "* Make sure to \"connect\" to the storage container (only happens once) \n",
    "* Using the DataFrames package in Julia, the 2017 Q2 data are imported using the readtable() function. \n",
    "* Next, the data must be transformed into a \"tidy\" format for analytics to be run.  This transformation (joining, filtering, subsetting, grouped summaries) is performed using Julia.\n",
    "* Functions are written for the analytics.  This enables the functions to be proactively applied to other analytics endeavors.\n",
    "    * These functions are based on the 2018 FAERS proof of concept.\n",
    "* Lastly, the visualization functions are run.  Output is embedded into a Jupyter Notebook.\n",
    "* The end user will \"ingest\" the analytics via a combination of a Jupyter Notebook with documentation, code, and comments included.  More complex analytics may be provided via PowerBI.\n",
    "\n",
    "#### Placeholder for project documentation"
   ]
  },
  {
   "cell_type": "markdown",
   "metadata": {},
   "source": [
    "## Entity Relationship Diagram"
   ]
  },
  {
   "cell_type": "markdown",
   "metadata": {},
   "source": [
    "<img src=\"ERD.JPG\">"
   ]
  },
  {
   "cell_type": "markdown",
   "metadata": {},
   "source": [
    "## Global Macros and Functions"
   ]
  },
  {
   "cell_type": "code",
   "execution_count": 1,
   "metadata": {},
   "outputs": [
    {
     "data": {
      "text/plain": [
       "@prtnumrecs (macro with 1 method)"
      ]
     },
     "execution_count": 1,
     "metadata": {},
     "output_type": "execute_result"
    }
   ],
   "source": [
    "# Macro to determine how many records are coming from each file \n",
    "# UserMacro prtnumrecs\n",
    "macro prtnumrecs(dsname) \n",
    "    sd = :(size($dsname,1))\n",
    "    nr = eval(sd)\n",
    "    println(\"Number of records in $dsname\", \" is \", nr)\n",
    "end"
   ]
  },
  {
   "cell_type": "code",
   "execution_count": 2,
   "metadata": {},
   "outputs": [
    {
     "data": {
      "text/plain": [
       "displayrecs (generic function with 1 method)"
      ]
     },
     "execution_count": 2,
     "metadata": {},
     "output_type": "execute_result"
    }
   ],
   "source": [
    "# Function to show a user specified number of lines from a user specified dataframe\n",
    "# UserFunction displayrecs\n",
    "function displayrecs(dfname, numlines)\n",
    "    withenv(\"LINES\" => numlines) do\n",
    "        display(dfname)\n",
    "    end\n",
    "end"
   ]
  },
  {
   "cell_type": "markdown",
   "metadata": {},
   "source": [
    "## Code: ETL"
   ]
  },
  {
   "cell_type": "code",
   "execution_count": 3,
   "metadata": {
    "scrolled": true
   },
   "outputs": [
    {
     "name": "stderr",
     "output_type": "stream",
     "text": [
      "┌ Info: Installing Julia nodeps kernelspec in C:\\Users\\churley\\AppData\\Roaming\\jupyter\\kernels\\julia-nodeps-1.1\n",
      "└ @ IJulia C:\\Users\\churley\\.juliapro\\JuliaPro_v1.1.1.1\\packages\\IJulia\\gI2uA\\deps\\kspec.jl:72\n"
     ]
    },
    {
     "data": {
      "text/plain": [
       "\"C:\\\\Users\\\\churley\\\\AppData\\\\Roaming\\\\jupyter\\\\kernels\\\\julia-nodeps-1.1\""
      ]
     },
     "execution_count": 3,
     "metadata": {},
     "output_type": "execute_result"
    }
   ],
   "source": [
    "# Must add DataFrames, CSV, StatFiles, VegaLite, and ORCA packages needed for this project\n",
    "# import Pkg; Pkg.add(\"Pkg\")\n",
    "# Pkg.add(\"DataFrames\")\n",
    "# Pkg.add(\"CSV\")\n",
    "# Pkg.add(\"StatFiles\")\n",
    "# Pkg.add(\"VegaLite\") \n",
    "# Pkg.build(\"VegaLite\")\n",
    "# import Pkg; Pkg.add(\"ORCA\")\n",
    "# Pkg.build(\"PyCall\")\n",
    "# Set the kernel options to remove any version warnings for this program execution\n",
    "using IJulia\n",
    "IJulia.installkernel(\"Julia nodeps\", \"--depwarn=no\")"
   ]
  },
  {
   "cell_type": "code",
   "execution_count": 4,
   "metadata": {},
   "outputs": [],
   "source": [
    "# Load required Julia Package libraries\n",
    "using DataFrames, CSV, StatFiles"
   ]
  },
  {
   "cell_type": "code",
   "execution_count": 8,
   "metadata": {
    "scrolled": true
   },
   "outputs": [
    {
     "data": {
      "text/html": [
       "<table class=\"data-frame\"><thead><tr><th></th><th>primaryid</th><th>caseid</th><th>dsg_drug_seq</th><th>start_dt</th><th>end_dt</th><th>dur</th><th>dur_cod</th></tr><tr><th></th><th>Int64</th><th>Int64</th><th>Int64</th><th>Int64⍰</th><th>Int64⍰</th><th>Float64⍰</th><th>String⍰</th></tr></thead><tbody><p>454,078 rows × 7 columns</p><tr><th>1</th><td>100052112</td><td>10005211</td><td>1</td><td>2013</td><td>missing</td><td>missing</td><td>missing</td></tr><tr><th>2</th><td>100052112</td><td>10005211</td><td>3</td><td>20130612</td><td>missing</td><td>missing</td><td>missing</td></tr><tr><th>3</th><td>100052112</td><td>10005211</td><td>4</td><td>2013</td><td>2013</td><td>missing</td><td>missing</td></tr><tr><th>4</th><td>100052112</td><td>10005211</td><td>5</td><td>2013</td><td>missing</td><td>missing</td><td>missing</td></tr><tr><th>5</th><td>100062493</td><td>10006249</td><td>1</td><td>20120105</td><td>20120109</td><td>missing</td><td>missing</td></tr><tr><th>6</th><td>100062493</td><td>10006249</td><td>2</td><td>20120110</td><td>20120201</td><td>missing</td><td>missing</td></tr><tr><th>7</th><td>100062493</td><td>10006249</td><td>3</td><td>20120202</td><td>20130102</td><td>missing</td><td>missing</td></tr><tr><th>8</th><td>100062493</td><td>10006249</td><td>4</td><td>20130102</td><td>missing</td><td>missing</td><td>missing</td></tr><tr><th>9</th><td>100062493</td><td>10006249</td><td>5</td><td>20101022</td><td>20130919</td><td>missing</td><td>missing</td></tr><tr><th>10</th><td>100100153</td><td>10010015</td><td>1</td><td>201204</td><td>missing</td><td>missing</td><td>missing</td></tr><tr><th>11</th><td>100100153</td><td>10010015</td><td>2</td><td>20160419</td><td>missing</td><td>missing</td><td>missing</td></tr><tr><th>12</th><td>100102983</td><td>10010298</td><td>1</td><td>20120830</td><td>20140227</td><td>missing</td><td>missing</td></tr><tr><th>13</th><td>100114653</td><td>10011465</td><td>1</td><td>20120718</td><td>20121221</td><td>missing</td><td>missing</td></tr><tr><th>14</th><td>100114653</td><td>10011465</td><td>2</td><td>20100607</td><td>20110129</td><td>missing</td><td>missing</td></tr><tr><th>15</th><td>100114653</td><td>10011465</td><td>3</td><td>20110304</td><td>20111207</td><td>missing</td><td>missing</td></tr><tr><th>16</th><td>100117982</td><td>10011798</td><td>1</td><td>2014</td><td>missing</td><td>missing</td><td>missing</td></tr><tr><th>17</th><td>100118006</td><td>10011800</td><td>1</td><td>20111129</td><td>20120221</td><td>missing</td><td>missing</td></tr><tr><th>18</th><td>100118006</td><td>10011800</td><td>2</td><td>20120313</td><td>201409</td><td>missing</td><td>missing</td></tr><tr><th>19</th><td>100118006</td><td>10011800</td><td>5</td><td>2014</td><td>missing</td><td>missing</td><td>missing</td></tr><tr><th>20</th><td>100118006</td><td>10011800</td><td>6</td><td>201205</td><td>missing</td><td>missing</td><td>missing</td></tr><tr><th>21</th><td>100118006</td><td>10011800</td><td>7</td><td>2012</td><td>missing</td><td>missing</td><td>missing</td></tr><tr><th>22</th><td>100118006</td><td>10011800</td><td>8</td><td>2013</td><td>missing</td><td>missing</td><td>missing</td></tr><tr><th>23</th><td>100118006</td><td>10011800</td><td>15</td><td>20140304</td><td>2014</td><td>missing</td><td>missing</td></tr><tr><th>24</th><td>100118006</td><td>10011800</td><td>16</td><td>2014</td><td>missing</td><td>missing</td><td>missing</td></tr><tr><th>25</th><td>100126422</td><td>10012642</td><td>1</td><td>20130213</td><td>20170524</td><td>missing</td><td>missing</td></tr><tr><th>26</th><td>100129555</td><td>10012955</td><td>1</td><td>20140224</td><td>20140303</td><td>missing</td><td>missing</td></tr><tr><th>27</th><td>100129555</td><td>10012955</td><td>2</td><td>20140305</td><td>missing</td><td>missing</td><td>missing</td></tr><tr><th>28</th><td>100129555</td><td>10012955</td><td>3</td><td>20140228</td><td>20140303</td><td>missing</td><td>missing</td></tr><tr><th>29</th><td>100129555</td><td>10012955</td><td>4</td><td>20140224</td><td>20140226</td><td>missing</td><td>missing</td></tr><tr><th>30</th><td>100129555</td><td>10012955</td><td>5</td><td>20140225</td><td>missing</td><td>missing</td><td>missing</td></tr><tr><th>&vellip;</th><td>&vellip;</td><td>&vellip;</td><td>&vellip;</td><td>&vellip;</td><td>&vellip;</td><td>&vellip;</td><td>&vellip;</td></tr></tbody></table>"
      ],
      "text/latex": [
       "\\begin{tabular}{r|ccccccc}\n",
       "\t& primaryid & caseid & dsg\\_drug\\_seq & start\\_dt & end\\_dt & dur & dur\\_cod\\\\\n",
       "\t\\hline\n",
       "\t& Int64 & Int64 & Int64 & Int64⍰ & Int64⍰ & Float64⍰ & String⍰\\\\\n",
       "\t\\hline\n",
       "\t1 & 100052112 & 10005211 & 1 & 2013 &  &  &  \\\\\n",
       "\t2 & 100052112 & 10005211 & 3 & 20130612 &  &  &  \\\\\n",
       "\t3 & 100052112 & 10005211 & 4 & 2013 & 2013 &  &  \\\\\n",
       "\t4 & 100052112 & 10005211 & 5 & 2013 &  &  &  \\\\\n",
       "\t5 & 100062493 & 10006249 & 1 & 20120105 & 20120109 &  &  \\\\\n",
       "\t6 & 100062493 & 10006249 & 2 & 20120110 & 20120201 &  &  \\\\\n",
       "\t7 & 100062493 & 10006249 & 3 & 20120202 & 20130102 &  &  \\\\\n",
       "\t8 & 100062493 & 10006249 & 4 & 20130102 &  &  &  \\\\\n",
       "\t9 & 100062493 & 10006249 & 5 & 20101022 & 20130919 &  &  \\\\\n",
       "\t10 & 100100153 & 10010015 & 1 & 201204 &  &  &  \\\\\n",
       "\t11 & 100100153 & 10010015 & 2 & 20160419 &  &  &  \\\\\n",
       "\t12 & 100102983 & 10010298 & 1 & 20120830 & 20140227 &  &  \\\\\n",
       "\t13 & 100114653 & 10011465 & 1 & 20120718 & 20121221 &  &  \\\\\n",
       "\t14 & 100114653 & 10011465 & 2 & 20100607 & 20110129 &  &  \\\\\n",
       "\t15 & 100114653 & 10011465 & 3 & 20110304 & 20111207 &  &  \\\\\n",
       "\t16 & 100117982 & 10011798 & 1 & 2014 &  &  &  \\\\\n",
       "\t17 & 100118006 & 10011800 & 1 & 20111129 & 20120221 &  &  \\\\\n",
       "\t18 & 100118006 & 10011800 & 2 & 20120313 & 201409 &  &  \\\\\n",
       "\t19 & 100118006 & 10011800 & 5 & 2014 &  &  &  \\\\\n",
       "\t20 & 100118006 & 10011800 & 6 & 201205 &  &  &  \\\\\n",
       "\t21 & 100118006 & 10011800 & 7 & 2012 &  &  &  \\\\\n",
       "\t22 & 100118006 & 10011800 & 8 & 2013 &  &  &  \\\\\n",
       "\t23 & 100118006 & 10011800 & 15 & 20140304 & 2014 &  &  \\\\\n",
       "\t24 & 100118006 & 10011800 & 16 & 2014 &  &  &  \\\\\n",
       "\t25 & 100126422 & 10012642 & 1 & 20130213 & 20170524 &  &  \\\\\n",
       "\t26 & 100129555 & 10012955 & 1 & 20140224 & 20140303 &  &  \\\\\n",
       "\t27 & 100129555 & 10012955 & 2 & 20140305 &  &  &  \\\\\n",
       "\t28 & 100129555 & 10012955 & 3 & 20140228 & 20140303 &  &  \\\\\n",
       "\t29 & 100129555 & 10012955 & 4 & 20140224 & 20140226 &  &  \\\\\n",
       "\t30 & 100129555 & 10012955 & 5 & 20140225 &  &  &  \\\\\n",
       "\t$\\dots$ & $\\dots$ & $\\dots$ & $\\dots$ & $\\dots$ & $\\dots$ & $\\dots$ & $\\dots$ \\\\\n",
       "\\end{tabular}\n"
      ],
      "text/plain": [
       "454078×7 DataFrame. Omitted printing of 2 columns\n",
       "│ Row    │ primaryid │ caseid   │ dsg_drug_seq │ start_dt │ end_dt   │\n",
       "│        │ \u001b[90mInt64\u001b[39m     │ \u001b[90mInt64\u001b[39m    │ \u001b[90mInt64\u001b[39m        │ \u001b[90mInt64⍰\u001b[39m   │ \u001b[90mInt64⍰\u001b[39m   │\n",
       "├────────┼───────────┼──────────┼──────────────┼──────────┼──────────┤\n",
       "│ 1      │ 100052112 │ 10005211 │ 1            │ 2013     │ \u001b[90mmissing\u001b[39m  │\n",
       "│ 2      │ 100052112 │ 10005211 │ 3            │ 20130612 │ \u001b[90mmissing\u001b[39m  │\n",
       "│ 3      │ 100052112 │ 10005211 │ 4            │ 2013     │ 2013     │\n",
       "│ 4      │ 100052112 │ 10005211 │ 5            │ 2013     │ \u001b[90mmissing\u001b[39m  │\n",
       "│ 5      │ 100062493 │ 10006249 │ 1            │ 20120105 │ 20120109 │\n",
       "│ 6      │ 100062493 │ 10006249 │ 2            │ 20120110 │ 20120201 │\n",
       "│ 7      │ 100062493 │ 10006249 │ 3            │ 20120202 │ 20130102 │\n",
       "│ 8      │ 100062493 │ 10006249 │ 4            │ 20130102 │ \u001b[90mmissing\u001b[39m  │\n",
       "│ 9      │ 100062493 │ 10006249 │ 5            │ 20101022 │ 20130919 │\n",
       "│ 10     │ 100100153 │ 10010015 │ 1            │ 201204   │ \u001b[90mmissing\u001b[39m  │\n",
       "⋮\n",
       "│ 454068 │ 99978563  │ 9997856  │ 15           │ 2016     │ \u001b[90mmissing\u001b[39m  │\n",
       "│ 454069 │ 999913114 │ 9999131  │ 1            │ 20160803 │ 20170418 │\n",
       "│ 454070 │ 999913114 │ 9999131  │ 2            │ 20110322 │ \u001b[90mmissing\u001b[39m  │\n",
       "│ 454071 │ 999913114 │ 9999131  │ 3            │ 20160217 │ \u001b[90mmissing\u001b[39m  │\n",
       "│ 454072 │ 999913114 │ 9999131  │ 4            │ 20130923 │ \u001b[90mmissing\u001b[39m  │\n",
       "│ 454073 │ 999913114 │ 9999131  │ 5            │ 20130815 │ \u001b[90mmissing\u001b[39m  │\n",
       "│ 454074 │ 999913114 │ 9999131  │ 6            │ 20130326 │ \u001b[90mmissing\u001b[39m  │\n",
       "│ 454075 │ 999913114 │ 9999131  │ 7            │ 20131030 │ \u001b[90mmissing\u001b[39m  │\n",
       "│ 454076 │ 999913114 │ 9999131  │ 8            │ 20130121 │ \u001b[90mmissing\u001b[39m  │\n",
       "│ 454077 │ 999913114 │ 9999131  │ 10           │ 20100604 │ 20130326 │\n",
       "│ 454078 │ 999913114 │ 9999131  │ 11           │ 20090930 │ 20121023 │"
      ]
     },
     "execution_count": 8,
     "metadata": {},
     "output_type": "execute_result"
    }
   ],
   "source": [
    "# Read tables on Datacise using the updated CSV.jl package v0.5.3\n",
    "# demo17q2 = CSV.read(\"C:\\\\Users\\\\rbryant\\\\Desktop\\\\HAC\\\\FAERS_2017\\\\DEMO17Q2.txt\"; header = 1, delim = '$')\n",
    "# drug17q2 = CSV.read(\"C:\\\\Users\\\\rbryant\\\\Desktop\\\\HAC\\\\FAERS_2017\\\\DRUG17Q2.txt\"; header = 1, delim = '$')\n",
    "# indi17q2 = CSV.read(\"C:\\\\Users\\\\rbryant\\\\Desktop\\\\HAC\\\\FAERS_2017\\\\INDI17Q2.txt\"; header = 1, delim = '$')\n",
    "# outc17q2 = CSV.read(\"C:\\\\Users\\\\rbryant\\\\Desktop\\\\HAC\\\\FAERS_2017\\\\OUTC17Q2.txt\"; header = 1, delim = '$')\n",
    "# reac17q2 = CSV.read(\"C:\\\\Users\\\\rbryant\\\\Desktop\\\\HAC\\\\FAERS_2017\\\\REAC17Q2.txt\"; header = 1, delim = '$')\n",
    "# rpsr17q2 = CSV.read(\"C:\\\\Users\\\\rbryant\\\\Desktop\\\\HAC\\\\FAERS_2017\\\\RPSR17Q2.txt\"; header = 1, delim = '$')\n",
    "# ther17q2 = CSV.read(\"C:\\\\Users\\\\rbryant\\\\Desktop\\\\HAC\\\\FAERS_2017\\\\THER17Q2.txt\"; header = 1, delim = '$')\n",
    "\n",
    "# Read tables on Datacise using the updated CSV.jl package v0.5.3\n",
    "demo17q2 = CSV.read(\"C:\\\\Users\\\\churley\\\\data\\\\DEMO17Q2.txt\"; header = 1, delim = '$')\n",
    "drug17q2 = CSV.read(\"C:\\\\Users\\\\churley\\\\data\\\\DRUG17Q2.txt\"; header = 1, delim = '$')\n",
    "indi17q2 = CSV.read(\"C:\\\\Users\\\\churley\\\\data\\\\INDI17Q2.txt\"; header = 1, delim = '$')\n",
    "outc17q2 = CSV.read(\"C:\\\\Users\\\\churley\\\\data\\\\OUTC17Q2.txt\"; header = 1, delim = '$')\n",
    "reac17q2 = CSV.read(\"C:\\\\Users\\\\churley\\\\data\\\\REAC17Q2.txt\"; header = 1, delim = '$')\n",
    "rpsr17q2 = CSV.read(\"C:\\\\Users\\\\churley\\\\data\\\\RPSR17Q2.txt\"; header = 1, delim = '$')\n",
    "ther17q2 = CSV.read(\"C:\\\\Users\\\\churley\\\\data\\\\THER17Q2.txt\"; header = 1, delim = '$')\n",
    "\n",
    "# Read tables on local desktop using the updated CSV.jl package v0.5.3\n",
    "# demo17q2 = CSV.read(\"C:\\\\Users\\\\hurle\\\\Anaconda3\\\\Juliaprog\\\\Q2Data\\\\DEMO17Q2.txt\"; header = 1, delim = '$')\n",
    "# drug17q2 = CSV.read(\"C:\\\\Users\\\\hurle\\\\Anaconda3\\\\Juliaprog\\\\Q2Data\\\\DRUG17Q2.txt\"; header = 1, delim = '$')\n",
    "# indi17q2 = CSV.read(\"C:\\\\Users\\\\hurle\\\\Anaconda3\\\\Juliaprog\\\\Q2Data\\\\INDI17Q2.txt\"; header = 1, delim = '$')\n",
    "# outc17q2 = CSV.read(\"C:\\\\Users\\\\hurle\\\\Anaconda3\\\\Juliaprog\\\\Q2Data\\\\OUTC17Q2.txt\"; header = 1, delim = '$')\n",
    "# reac17q2 = CSV.read(\"C:\\\\Users\\\\hurle\\\\Anaconda3\\\\Juliaprog\\\\Q2Data\\\\REAC17Q2.txt\"; header = 1, delim = '$')\n",
    "# rpsr17q2 = CSV.read(\"C:\\\\Users\\\\hurle\\\\Anaconda3\\\\Juliaprog\\\\Q2Data\\\\RPSR17Q2.txt\"; header = 1, delim = '$')\n",
    "# ther17q2 = CSV.read(\"C:\\\\Users\\\\hurle\\\\Anaconda3\\\\Juliaprog\\\\Q2Data\\\\THER17Q2.txt\"; header = 1, delim = '$')\n",
    "# ther17q2 = CSV.read(\"C:\\\\Users\\\\hurle\\\\Anaconda3\\\\Juliaprog\\\\Q2Data\\\\THER17Q2.txt\"; header = 1, delim = '$', datarow=195880)"
   ]
  },
  {
   "cell_type": "code",
   "execution_count": 9,
   "metadata": {},
   "outputs": [],
   "source": [
    "# Taking a quick look at one of the records in the warning to confirm that the value is appropriate \n",
    "# First get the column description for column 15 and then select a few records to confirm values."
   ]
  },
  {
   "cell_type": "code",
   "execution_count": 10,
   "metadata": {},
   "outputs": [
    {
     "data": {
      "text/html": [
       "<table class=\"data-frame\"><thead><tr><th></th><th>variable</th><th>mean</th><th>min</th></tr><tr><th></th><th>Symbol</th><th>Union…</th><th>Any</th></tr></thead><tbody><p>20 rows × 8 columns (omitted printing of 5 columns)</p><tr><th>1</th><td>primaryid</td><td>1.49595e8</td><td>38853455</td></tr><tr><th>2</th><td>caseid</td><td>1.32713e7</td><td>3885345</td></tr><tr><th>3</th><td>drug_seq</td><td>6.13917</td><td>1</td></tr><tr><th>4</th><td>role_cod</td><td></td><td>C</td></tr><tr><th>5</th><td>drugname</td><td></td><td> LOSARTIN</td></tr><tr><th>6</th><td>prod_ai</td><td></td><td>(1-743)-(1638-2332)-BLOOD-COAGULATION FACTOR VIII (SYNTHETIC HUMAN) FUSION PROTEIN WITH IMMUNOGLOBULIN G1 (SYNTHETIC HUMAN FC DOMAIN FRAGMENT), (1444-6'),(1447-9')-BIS(DISULFIDE) WITH IMMUNOGLOBULIN G1 (SYNTHETIC HUMAN FC DOMAIN FRAGMENT)</td></tr><tr><th>7</th><td>val_vbm</td><td>1.02109</td><td>1</td></tr><tr><th>8</th><td>route</td><td></td><td>Buccal</td></tr><tr><th>9</th><td>dose_vbm</td><td></td><td> 13.75 MG, UNK</td></tr><tr><th>10</th><td>cum_dose_chr</td><td>1.95229e5</td><td>0.0</td></tr><tr><th>11</th><td>cum_dose_unit</td><td></td><td>DF</td></tr><tr><th>12</th><td>dechal</td><td></td><td>D</td></tr><tr><th>13</th><td>rechal</td><td></td><td>D</td></tr><tr><th>14</th><td>lot_num</td><td></td><td>  6012616</td></tr><tr><th>15</th><td>exp_dt</td><td></td><td>19960101</td></tr><tr><th>16</th><td>nda_num</td><td>3.98337e8</td><td>0</td></tr><tr><th>17</th><td>dose_amt</td><td>1910.01</td><td>0.0</td></tr><tr><th>18</th><td>dose_unit</td><td></td><td>BQ</td></tr><tr><th>19</th><td>dose_form</td><td></td><td>AEROSOL</td></tr><tr><th>20</th><td>dose_freq</td><td></td><td>/cycle</td></tr></tbody></table>"
      ],
      "text/latex": [
       "\\begin{tabular}{r|cccc}\n",
       "\t& variable & mean & min & \\\\\n",
       "\t\\hline\n",
       "\t& Symbol & Union… & Any & \\\\\n",
       "\t\\hline\n",
       "\t1 & primaryid & 1.49595e8 & 38853455 & $\\dots$ \\\\\n",
       "\t2 & caseid & 1.32713e7 & 3885345 & $\\dots$ \\\\\n",
       "\t3 & drug\\_seq & 6.13917 & 1 & $\\dots$ \\\\\n",
       "\t4 & role\\_cod &  & C & $\\dots$ \\\\\n",
       "\t5 & drugname &  &  LOSARTIN & $\\dots$ \\\\\n",
       "\t6 & prod\\_ai &  & (1-743)-(1638-2332)-BLOOD-COAGULATION FACTOR VIII (SYNTHETIC HUMAN) FUSION PROTEIN WITH IMMUNOGLOBULIN G1 (SYNTHETIC HUMAN FC DOMAIN FRAGMENT), (1444-6'),(1447-9')-BIS(DISULFIDE) WITH IMMUNOGLOBULIN G1 (SYNTHETIC HUMAN FC DOMAIN FRAGMENT) & $\\dots$ \\\\\n",
       "\t7 & val\\_vbm & 1.02109 & 1 & $\\dots$ \\\\\n",
       "\t8 & route &  & Buccal & $\\dots$ \\\\\n",
       "\t9 & dose\\_vbm &  &  13.75 MG, UNK & $\\dots$ \\\\\n",
       "\t10 & cum\\_dose\\_chr & 1.95229e5 & 0.0 & $\\dots$ \\\\\n",
       "\t11 & cum\\_dose\\_unit &  & DF & $\\dots$ \\\\\n",
       "\t12 & dechal &  & D & $\\dots$ \\\\\n",
       "\t13 & rechal &  & D & $\\dots$ \\\\\n",
       "\t14 & lot\\_num &  &   6012616 & $\\dots$ \\\\\n",
       "\t15 & exp\\_dt &  & 19960101 & $\\dots$ \\\\\n",
       "\t16 & nda\\_num & 3.98337e8 & 0 & $\\dots$ \\\\\n",
       "\t17 & dose\\_amt & 1910.01 & 0.0 & $\\dots$ \\\\\n",
       "\t18 & dose\\_unit &  & BQ & $\\dots$ \\\\\n",
       "\t19 & dose\\_form &  & AEROSOL & $\\dots$ \\\\\n",
       "\t20 & dose\\_freq &  & /cycle & $\\dots$ \\\\\n",
       "\\end{tabular}\n"
      ],
      "text/plain": [
       "20×8 DataFrame. Omitted printing of 6 columns\n",
       "│ Row │ variable      │ mean      │\n",
       "│     │ \u001b[90mSymbol\u001b[39m        │ \u001b[90mUnion…\u001b[39m    │\n",
       "├─────┼───────────────┼───────────┤\n",
       "│ 1   │ primaryid     │ 1.49595e8 │\n",
       "│ 2   │ caseid        │ 1.32713e7 │\n",
       "│ 3   │ drug_seq      │ 6.13917   │\n",
       "│ 4   │ role_cod      │           │\n",
       "│ 5   │ drugname      │           │\n",
       "│ 6   │ prod_ai       │           │\n",
       "│ 7   │ val_vbm       │ 1.02109   │\n",
       "│ 8   │ route         │           │\n",
       "│ 9   │ dose_vbm      │           │\n",
       "│ 10  │ cum_dose_chr  │ 1.95229e5 │\n",
       "│ 11  │ cum_dose_unit │           │\n",
       "│ 12  │ dechal        │           │\n",
       "│ 13  │ rechal        │           │\n",
       "│ 14  │ lot_num       │           │\n",
       "│ 15  │ exp_dt        │           │\n",
       "│ 16  │ nda_num       │ 3.98337e8 │\n",
       "│ 17  │ dose_amt      │ 1910.01   │\n",
       "│ 18  │ dose_unit     │           │\n",
       "│ 19  │ dose_form     │           │\n",
       "│ 20  │ dose_freq     │           │"
      ]
     },
     "execution_count": 10,
     "metadata": {},
     "output_type": "execute_result"
    }
   ],
   "source": [
    "describe(drug17q2)"
   ]
  },
  {
   "cell_type": "code",
   "execution_count": 11,
   "metadata": {},
   "outputs": [
    {
     "data": {
      "text/plain": [
       "3-element Array{Union{Missing, String},1}:\n",
       " missing            \n",
       " \"20190303,20190221\"\n",
       " missing            "
      ]
     },
     "execution_count": 11,
     "metadata": {},
     "output_type": "execute_result"
    }
   ],
   "source": [
    "drug17q2.exp_dt[1127910:1127912]  #The values look fine"
   ]
  },
  {
   "cell_type": "code",
   "execution_count": 12,
   "metadata": {},
   "outputs": [
    {
     "name": "stdout",
     "output_type": "stream",
     "text": [
      "Number of records in demo17q2 is 337398\n",
      "Number of records in drug17q2 is 1188078\n",
      "Number of records in indi17q2 is 816254\n",
      "Number of records in outc17q2 is 232053\n",
      "Number of records in reac17q2 is 987728\n",
      "Number of records in rpsr17q2 is 15768\n",
      "Number of records in ther17q2 is 454078\n"
     ]
    }
   ],
   "source": [
    "#How many records are coming from each file using prtnumrecs user defined macro\n",
    "@prtnumrecs(demo17q2)\n",
    "@prtnumrecs(drug17q2)\n",
    "@prtnumrecs(indi17q2)\n",
    "@prtnumrecs(outc17q2)\n",
    "@prtnumrecs(reac17q2)\n",
    "@prtnumrecs(rpsr17q2)\n",
    "@prtnumrecs(ther17q2)       "
   ]
  },
  {
   "cell_type": "code",
   "execution_count": 14,
   "metadata": {},
   "outputs": [
    {
     "data": {
      "text/html": [
       "<table class=\"data-frame\"><thead><tr><th></th><th>llt_code</th><th>llt_name</th><th>pt_code</th><th>llt_whoart_code</th></tr><tr><th></th><th>DataValu…</th><th>DataValu…</th><th>DataValu…</th><th>DataValu…</th></tr></thead><tbody><p>120,267 rows × 22 columns (omitted printing of 18 columns)</p><tr><th>1</th><td>1.0e7</td><td>\"\\\"Ventilation\\\" pneumonitis\"</td><td>1.00019e7</td><td>\"\"</td></tr><tr><th>2</th><td>1.0e7</td><td>\"\\\"Ventilation\\\" pneumonitis\"</td><td>1.00019e7</td><td>\"\"</td></tr><tr><th>3</th><td>1.0e7</td><td>\"11-beta-hydroxylase deficiency\"</td><td>1.0e7</td><td>\"\"</td></tr><tr><th>4</th><td>1.0e7</td><td>\"11-beta-hydroxylase deficiency\"</td><td>1.0e7</td><td>\"\"</td></tr><tr><th>5</th><td>1.0e7</td><td>\"11-oxysteroid activity incr\"</td><td>1.00333e7</td><td>\"\"</td></tr><tr><th>6</th><td>1.0e7</td><td>\"11-oxysteroid activity increased\"</td><td>1.00333e7</td><td>\"\"</td></tr><tr><th>7</th><td>1.0e7</td><td>\"17 ketosteroids urine\"</td><td>1.0e7</td><td>\"\"</td></tr><tr><th>8</th><td>1.00616e7</td><td>\"17 ketosteroids urine abnormal\"</td><td>1.00616e7</td><td>\"\"</td></tr><tr><th>9</th><td>1.0e7</td><td>\"17 ketosteroids urine abnormal NOS\"</td><td>1.00616e7</td><td>\"\"</td></tr><tr><th>10</th><td>1.0e7</td><td>\"17 ketosteroids urine decreased\"</td><td>1.0e7</td><td>\"\"</td></tr><tr><th>11</th><td>1.0e7</td><td>\"17 ketosteroids urine high\"</td><td>1.0e7</td><td>\"\"</td></tr><tr><th>12</th><td>1.0e7</td><td>\"17 ketosteroids urine increased\"</td><td>1.0e7</td><td>\"\"</td></tr><tr><th>13</th><td>1.0e7</td><td>\"17 ketosteroids urine low\"</td><td>1.0e7</td><td>\"\"</td></tr><tr><th>14</th><td>1.0e7</td><td>\"17 ketosteroids urine normal\"</td><td>1.0e7</td><td>\"\"</td></tr><tr><th>15</th><td>1.0e7</td><td>\"17 OHCS increased\"</td><td>1.00205e7</td><td>\"\"</td></tr><tr><th>16</th><td>1.0e7</td><td>\"17,20-desmolase deficiency\"</td><td>1.0e7</td><td>\"\"</td></tr><tr><th>17</th><td>1.0e7</td><td>\"17,20-desmolase deficiency\"</td><td>1.0e7</td><td>\"\"</td></tr><tr><th>18</th><td>1.0e7</td><td>\"17-alpha-hydroxylase deficiency\"</td><td>1.0e7</td><td>\"\"</td></tr><tr><th>19</th><td>1.0e7</td><td>\"17-alpha-hydroxylase deficiency\"</td><td>1.0e7</td><td>\"\"</td></tr><tr><th>20</th><td>1.00516e7</td><td>\"17-hydroxycorticosteroid activity\"</td><td>1.00516e7</td><td>\"\"</td></tr><tr><th>21</th><td>1.0e7</td><td>\"17-hydroxycorticosteroid activity increased\"</td><td>1.00217e7</td><td>\"\"</td></tr><tr><th>22</th><td>1.00633e7</td><td>\"17-hydroxyprogesterone decreased\"</td><td>1.00633e7</td><td>\"\"</td></tr><tr><th>23</th><td>1.00633e7</td><td>\"17-hydroxyprogesterone increased\"</td><td>1.00633e7</td><td>\"\"</td></tr><tr><th>24</th><td>1.0e7</td><td>\"17-hydroxysteroid activity incr\"</td><td>1.00217e7</td><td>\"\"</td></tr><tr><th>25</th><td>1.0e7</td><td>\"17-hydroxysteroid activity increased\"</td><td>1.00217e7</td><td>\"\"</td></tr><tr><th>26</th><td>1.00685e7</td><td>\"18q minus syndrome\"</td><td>1.00685e7</td><td>\"\"</td></tr><tr><th>27</th><td>1.00685e7</td><td>\"18q minus syndrome\"</td><td>1.00685e7</td><td>\"\"</td></tr><tr><th>28</th><td>1.00685e7</td><td>\"18q minus syndrome\"</td><td>1.00685e7</td><td>\"\"</td></tr><tr><th>29</th><td>1.00685e7</td><td>\"18q minus syndrome\"</td><td>1.00685e7</td><td>\"\"</td></tr><tr><th>30</th><td>1.00661e7</td><td>\"18q syndrome\"</td><td>1.00685e7</td><td>\"\"</td></tr><tr><th>&vellip;</th><td>&vellip;</td><td>&vellip;</td><td>&vellip;</td><td>&vellip;</td></tr></tbody></table>"
      ],
      "text/latex": [
       "\\begin{tabular}{r|ccccc}\n",
       "\t& llt\\_code & llt\\_name & pt\\_code & llt\\_whoart\\_code & \\\\\n",
       "\t\\hline\n",
       "\t& DataValu… & DataValu… & DataValu… & DataValu… & \\\\\n",
       "\t\\hline\n",
       "\t1 & 1.0e7 & \"\\textbackslash{}\"Ventilation\\textbackslash{}\" pneumonitis\" & 1.00019e7 & \"\" & $\\dots$ \\\\\n",
       "\t2 & 1.0e7 & \"\\textbackslash{}\"Ventilation\\textbackslash{}\" pneumonitis\" & 1.00019e7 & \"\" & $\\dots$ \\\\\n",
       "\t3 & 1.0e7 & \"11-beta-hydroxylase deficiency\" & 1.0e7 & \"\" & $\\dots$ \\\\\n",
       "\t4 & 1.0e7 & \"11-beta-hydroxylase deficiency\" & 1.0e7 & \"\" & $\\dots$ \\\\\n",
       "\t5 & 1.0e7 & \"11-oxysteroid activity incr\" & 1.00333e7 & \"\" & $\\dots$ \\\\\n",
       "\t6 & 1.0e7 & \"11-oxysteroid activity increased\" & 1.00333e7 & \"\" & $\\dots$ \\\\\n",
       "\t7 & 1.0e7 & \"17 ketosteroids urine\" & 1.0e7 & \"\" & $\\dots$ \\\\\n",
       "\t8 & 1.00616e7 & \"17 ketosteroids urine abnormal\" & 1.00616e7 & \"\" & $\\dots$ \\\\\n",
       "\t9 & 1.0e7 & \"17 ketosteroids urine abnormal NOS\" & 1.00616e7 & \"\" & $\\dots$ \\\\\n",
       "\t10 & 1.0e7 & \"17 ketosteroids urine decreased\" & 1.0e7 & \"\" & $\\dots$ \\\\\n",
       "\t11 & 1.0e7 & \"17 ketosteroids urine high\" & 1.0e7 & \"\" & $\\dots$ \\\\\n",
       "\t12 & 1.0e7 & \"17 ketosteroids urine increased\" & 1.0e7 & \"\" & $\\dots$ \\\\\n",
       "\t13 & 1.0e7 & \"17 ketosteroids urine low\" & 1.0e7 & \"\" & $\\dots$ \\\\\n",
       "\t14 & 1.0e7 & \"17 ketosteroids urine normal\" & 1.0e7 & \"\" & $\\dots$ \\\\\n",
       "\t15 & 1.0e7 & \"17 OHCS increased\" & 1.00205e7 & \"\" & $\\dots$ \\\\\n",
       "\t16 & 1.0e7 & \"17,20-desmolase deficiency\" & 1.0e7 & \"\" & $\\dots$ \\\\\n",
       "\t17 & 1.0e7 & \"17,20-desmolase deficiency\" & 1.0e7 & \"\" & $\\dots$ \\\\\n",
       "\t18 & 1.0e7 & \"17-alpha-hydroxylase deficiency\" & 1.0e7 & \"\" & $\\dots$ \\\\\n",
       "\t19 & 1.0e7 & \"17-alpha-hydroxylase deficiency\" & 1.0e7 & \"\" & $\\dots$ \\\\\n",
       "\t20 & 1.00516e7 & \"17-hydroxycorticosteroid activity\" & 1.00516e7 & \"\" & $\\dots$ \\\\\n",
       "\t21 & 1.0e7 & \"17-hydroxycorticosteroid activity increased\" & 1.00217e7 & \"\" & $\\dots$ \\\\\n",
       "\t22 & 1.00633e7 & \"17-hydroxyprogesterone decreased\" & 1.00633e7 & \"\" & $\\dots$ \\\\\n",
       "\t23 & 1.00633e7 & \"17-hydroxyprogesterone increased\" & 1.00633e7 & \"\" & $\\dots$ \\\\\n",
       "\t24 & 1.0e7 & \"17-hydroxysteroid activity incr\" & 1.00217e7 & \"\" & $\\dots$ \\\\\n",
       "\t25 & 1.0e7 & \"17-hydroxysteroid activity increased\" & 1.00217e7 & \"\" & $\\dots$ \\\\\n",
       "\t26 & 1.00685e7 & \"18q minus syndrome\" & 1.00685e7 & \"\" & $\\dots$ \\\\\n",
       "\t27 & 1.00685e7 & \"18q minus syndrome\" & 1.00685e7 & \"\" & $\\dots$ \\\\\n",
       "\t28 & 1.00685e7 & \"18q minus syndrome\" & 1.00685e7 & \"\" & $\\dots$ \\\\\n",
       "\t29 & 1.00685e7 & \"18q minus syndrome\" & 1.00685e7 & \"\" & $\\dots$ \\\\\n",
       "\t30 & 1.00661e7 & \"18q syndrome\" & 1.00685e7 & \"\" & $\\dots$ \\\\\n",
       "\t$\\dots$ & $\\dots$ & $\\dots$ & $\\dots$ & $\\dots$ &  \\\\\n",
       "\\end{tabular}\n"
      ],
      "text/plain": [
       "120267×22 DataFrame. Omitted printing of 20 columns\n",
       "│ Row    │ llt_code  │ llt_name                                     │\n",
       "│        │ \u001b[90mDataValu…\u001b[39m │ \u001b[90mDataValues.DataValue{String}\u001b[39m                 │\n",
       "├────────┼───────────┼──────────────────────────────────────────────┤\n",
       "│ 1      │ 1.0e7     │ \"\\\"Ventilation\\\" pneumonitis\"                │\n",
       "│ 2      │ 1.0e7     │ \"\\\"Ventilation\\\" pneumonitis\"                │\n",
       "│ 3      │ 1.0e7     │ \"11-beta-hydroxylase deficiency\"             │\n",
       "│ 4      │ 1.0e7     │ \"11-beta-hydroxylase deficiency\"             │\n",
       "│ 5      │ 1.0e7     │ \"11-oxysteroid activity incr\"                │\n",
       "│ 6      │ 1.0e7     │ \"11-oxysteroid activity increased\"           │\n",
       "│ 7      │ 1.0e7     │ \"17 ketosteroids urine\"                      │\n",
       "│ 8      │ 1.00616e7 │ \"17 ketosteroids urine abnormal\"             │\n",
       "│ 9      │ 1.0e7     │ \"17 ketosteroids urine abnormal NOS\"         │\n",
       "│ 10     │ 1.0e7     │ \"17 ketosteroids urine decreased\"            │\n",
       "⋮\n",
       "│ 120257 │ 1.00614e7 │ \"Zygomycosis\"                                │\n",
       "│ 120258 │ 1.00614e7 │ \"Zygomycosis\"                                │\n",
       "│ 120259 │ 1.00483e7 │ \"Zygomycosis (Phycomycosis or Mucormycosis)\" │\n",
       "│ 120260 │ 1.00483e7 │ \"Zygomycosis (Phycomycosis or Mucormycosis)\" │\n",
       "│ 120261 │ 1.00483e7 │ \"Zygomycosis (Phycomycosis or Mucormycosis)\" │\n",
       "│ 120262 │ 1.00483e7 │ \"Zygomycosis (Phycomycosis or Mucormycosis)\" │\n",
       "│ 120263 │ 1.00483e7 │ \"Zygomycosis NOS\"                            │\n",
       "│ 120264 │ 1.00483e7 │ \"Zygomycosis NOS\"                            │\n",
       "│ 120265 │ 1.00483e7 │ \"Zygomycosis NOS\"                            │\n",
       "│ 120266 │ 1.00483e7 │ \"Zygomycosis NOS\"                            │\n",
       "│ 120267 │ 1.00711e7 │ \"Zygote intra-fallopian transfer\"            │"
      ]
     },
     "execution_count": 14,
     "metadata": {},
     "output_type": "execute_result"
    }
   ],
   "source": [
    "# Read SAS dictionary data using a function from the StatFiles package and load into a dataframe\n",
    "using ReadStat, DataFrames, StatFiles\n",
    "\n",
    "# meddra20 = load from Datacise\n",
    "m20 = read_sas7bdat(\"C:\\\\Users\\\\churley\\\\data\\\\meddra20_0.sas7bdat\")\n",
    "\n",
    "# meddra20 = load from desktop\n",
    "# m20 = read_sas7bdat(\"C:\\\\Users\\\\hurle\\\\Anaconda3\\\\Juliaprog\\\\Q2Data\\\\meddra20_0.sas7bdat\")\n",
    "meddra20 = DataFrame(m20.data, m20.headers)"
   ]
  },
  {
   "cell_type": "code",
   "execution_count": 15,
   "metadata": {},
   "outputs": [
    {
     "name": "stdout",
     "output_type": "stream",
     "text": [
      "Records in meddra20: 120267\n"
     ]
    }
   ],
   "source": [
    "# Use the size function within println to show number of records in dataframe\n",
    "println(\"Records in meddra20: \", size(meddra20, 1))"
   ]
  },
  {
   "cell_type": "code",
   "execution_count": 16,
   "metadata": {
    "scrolled": true
   },
   "outputs": [],
   "source": [
    "# There are some columns that need to be renamed.\n",
    "# We can envision a future state where this is automated... for now manual.\n",
    "indi17q2 = rename(indi17q2, :indi_drug_seq => :drug_seq)\n",
    "ther17q2 = rename(ther17q2, :dsg_drug_seq => :drug_seq);"
   ]
  },
  {
   "cell_type": "markdown",
   "metadata": {},
   "source": [
    "### Code: ETL (Perform joins per specifications)"
   ]
  },
  {
   "cell_type": "code",
   "execution_count": 17,
   "metadata": {},
   "outputs": [
    {
     "name": "stdout",
     "output_type": "stream",
     "text": [
      "Number of records in drug_ind is 1189407\n",
      "Number of records in drug_ind_ther is 1189460\n",
      "Number of records in demo_reac is 987728\n",
      "Number of records in demo_reac_out is 1243921\n",
      "Number of records in demo_reac_out_source is 1244199\n",
      "Number of records in faers17 is 6943850\n"
     ]
    }
   ],
   "source": [
    "# Perform joins to match specifications  \n",
    "# Pull in indications for use into drug file table\n",
    "drug_ind = join(\n",
    "    drug17q2[:, [:primaryid, :caseid, :drug_seq, :drugname, :route, :cum_dose_chr, :dose_amt,\n",
    "      :dose_unit, :dose_form, :dose_freq, :role_cod]],\n",
    "    indi17q2[:, [:primaryid, :drug_seq, :indi_pt]],\n",
    "    on = [:primaryid, :drug_seq], kind = :left\n",
    ")\n",
    "@prtnumrecs(drug_ind)\n",
    "\n",
    "drug_ind_ther = join(\n",
    "    drug_ind, ther17q2[:, [:primaryid, :drug_seq, :start_dt, :end_dt, :dur, :dur_cod]],\n",
    "    on = [:primaryid, :drug_seq], kind = :left\n",
    ")\n",
    "@prtnumrecs(drug_ind_ther)\n",
    "\n",
    "# Pull reaction data into patient demographic table\n",
    "demo_reac = join(\n",
    "    demo17q2[:, [:primaryid, :caseid, :event_dt, :age, :age_cod, :age_grp, :sex, :wt, :occr_country]],\n",
    "    reac17q2[:, [:primaryid, :pt, :drug_rec_act]],\n",
    "    on = :primaryid, kind = :left,\n",
    ")\n",
    "@prtnumrecs(demo_reac)\n",
    "\n",
    "# Pull outcomes information into the previous table\n",
    "demo_reac_out = join(\n",
    "    demo_reac, outc17q2[:, [:primaryid, :outc_cod]], on = :primaryid, kind = :left\n",
    ")\n",
    "@prtnumrecs(demo_reac_out)\n",
    "\n",
    "# Concatenate previous table with report source information\n",
    "demo_reac_out_source = join(\n",
    "    demo_reac_out, rpsr17q2[:, [:primaryid, :rpsr_cod]], on = :primaryid, kind = :left\n",
    ")\n",
    "@prtnumrecs(demo_reac_out_source)\n",
    "\n",
    "# Lastly, join the (Drug/Therapy/Indication) and (Demographic/Reaction/Outcome/Report Source)\n",
    "# combined sets into one set with all this information in one place.\n",
    "faers17 = join(drug_ind_ther, deletecols!(demo_reac_out_source, :caseid), on = :primaryid, kind = :left);\n",
    "@prtnumrecs(faers17)"
   ]
  },
  {
   "cell_type": "markdown",
   "metadata": {},
   "source": [
    "## Code: ETL (Transform)"
   ]
  },
  {
   "cell_type": "markdown",
   "metadata": {},
   "source": [
    "### Code: Setup dataframes for all drugs and pilot drug which will be used later within the analytics code"
   ]
  },
  {
   "cell_type": "code",
   "execution_count": 18,
   "metadata": {
    "scrolled": true
   },
   "outputs": [
    {
     "name": "stdout",
     "output_type": "stream",
     "text": [
      "Number of records in faers17q2_1 is 10801\n",
      "Number of records in faers17q2_2 is 6943850\n",
      "Number of records in faers17q2_3 is 1428007\n",
      "Number of records in faers17q2_4 is 6943850\n",
      "Number of records in faers17q2_4 is 6943850\n"
     ]
    }
   ],
   "source": [
    "########## Perform transformations\n",
    "# Begin by storing a vector of counts by PT, where PT is \"Preferred Term\", or the event.\n",
    "faers17q2_1 = by(faers17, :pt, d -> DataFrame(count_pt_17q2 = nrow(d)))\n",
    "@prtnumrecs(faers17q2_1)\n",
    "\n",
    "# Append this vector to the combined FAERS dataset.\n",
    "faers17q2_2 = join(faers17, faers17q2_1, on = :pt, kind = :left, makeunique = true)\n",
    "@prtnumrecs(faers17q2_2)\n",
    "\n",
    "# Create a vector of counts by combination of Drug, and PT.\n",
    "faers17q2_3 = by(faers17q2_2, [:drugname, :pt],\n",
    "    d -> DataFrame(count_dpt_17q2 = nrow(d)))\n",
    "@prtnumrecs(faers17q2_3)\n",
    "\n",
    "# Append this vector to the original dataset\n",
    "faers17q2_4 = join(faers17q2_2, faers17q2_3, on = [:drugname, :pt], kind = :left,\n",
    "    makeunique = true)\n",
    "@prtnumrecs(faers17q2_4)\n",
    "\n",
    "# Create a percentage variable by Drug/PT\n",
    "faers17q2_4[:count_percentage_17q2] =\n",
    "    (faers17q2_4[:count_dpt_17q2] ./ faers17q2_4[:count_pt_17q2]) .* 100;\n",
    "@prtnumrecs(faers17q2_4)\n",
    "########## End transformations"
   ]
  },
  {
   "cell_type": "code",
   "execution_count": 19,
   "metadata": {
    "scrolled": true
   },
   "outputs": [
    {
     "data": {
      "text/html": [
       "<table class=\"data-frame\"><thead><tr><th></th><th>pt</th><th>count_pt_17q2</th></tr><tr><th></th><th>String⍰</th><th>Int64</th></tr></thead><tbody><p>10,801 rows × 2 columns</p><tr><th>1</th><td>Blood count abnormal</td><td>2685</td></tr><tr><th>2</th><td>Fatigue</td><td>91645</td></tr><tr><th>3</th><td>Tooth discolouration</td><td>270</td></tr><tr><th>4</th><td>Amaurosis fugax</td><td>87</td></tr><tr><th>5</th><td>Atrial fibrillation</td><td>17146</td></tr><tr><th>&vellip;</th><td>&vellip;</td><td>&vellip;</td></tr></tbody></table>"
      ],
      "text/latex": [
       "\\begin{tabular}{r|cc}\n",
       "\t& pt & count\\_pt\\_17q2\\\\\n",
       "\t\\hline\n",
       "\t& String⍰ & Int64\\\\\n",
       "\t\\hline\n",
       "\t1 & Blood count abnormal & 2685 \\\\\n",
       "\t2 & Fatigue & 91645 \\\\\n",
       "\t3 & Tooth discolouration & 270 \\\\\n",
       "\t4 & Amaurosis fugax & 87 \\\\\n",
       "\t5 & Atrial fibrillation & 17146 \\\\\n",
       "\t$\\dots$ & $\\dots$ & $\\dots$ \\\\\n",
       "\\end{tabular}\n"
      ],
      "text/plain": [
       "10801×2 DataFrame\n"
      ]
     },
     "metadata": {},
     "output_type": "display_data"
    }
   ],
   "source": [
    "# Display some records from a dataframe using the user defined displayrecs function\n",
    "displayrecs(faers17q2_1, 5)"
   ]
  },
  {
   "cell_type": "code",
   "execution_count": 20,
   "metadata": {},
   "outputs": [
    {
     "data": {
      "text/html": [
       "<table class=\"data-frame\"><thead><tr><th></th><th>primaryid</th><th>caseid</th><th>drug_seq</th><th>drugname</th><th>route</th><th>cum_dose_chr</th><th>dose_amt</th><th>dose_unit</th></tr><tr><th></th><th>Int64</th><th>Int64</th><th>Int64</th><th>String</th><th>String⍰</th><th>Float64⍰</th><th>Float64⍰</th><th>String⍰</th></tr></thead><tbody><p>6,943,850 rows × 28 columns (omitted printing of 20 columns)</p><tr><th>1</th><td>100052112</td><td>10005211</td><td>1</td><td>JAKAFI</td><td>Oral</td><td>missing</td><td>missing</td><td>missing</td></tr><tr><th>2</th><td>100052112</td><td>10005211</td><td>1</td><td>JAKAFI</td><td>Oral</td><td>missing</td><td>missing</td><td>missing</td></tr><tr><th>3</th><td>100052112</td><td>10005211</td><td>1</td><td>JAKAFI</td><td>Oral</td><td>missing</td><td>missing</td><td>missing</td></tr><tr><th>4</th><td>100052112</td><td>10005211</td><td>2</td><td>JAKAFI</td><td>Oral</td><td>missing</td><td>5.0</td><td>MG</td></tr><tr><th>5</th><td>100052112</td><td>10005211</td><td>2</td><td>JAKAFI</td><td>Oral</td><td>missing</td><td>5.0</td><td>MG</td></tr><tr><th>6</th><td>100052112</td><td>10005211</td><td>2</td><td>JAKAFI</td><td>Oral</td><td>missing</td><td>5.0</td><td>MG</td></tr><tr><th>7</th><td>100052112</td><td>10005211</td><td>3</td><td>JAKAFI</td><td>Oral</td><td>missing</td><td>15.0</td><td>MG</td></tr><tr><th>&vellip;</th><td>&vellip;</td><td>&vellip;</td><td>&vellip;</td><td>&vellip;</td><td>&vellip;</td><td>&vellip;</td><td>&vellip;</td><td>&vellip;</td></tr></tbody></table>"
      ],
      "text/latex": [
       "\\begin{tabular}{r|ccccccccc}\n",
       "\t& primaryid & caseid & drug\\_seq & drugname & route & cum\\_dose\\_chr & dose\\_amt & dose\\_unit & \\\\\n",
       "\t\\hline\n",
       "\t& Int64 & Int64 & Int64 & String & String⍰ & Float64⍰ & Float64⍰ & String⍰ & \\\\\n",
       "\t\\hline\n",
       "\t1 & 100052112 & 10005211 & 1 & JAKAFI & Oral &  &  &  & $\\dots$ \\\\\n",
       "\t2 & 100052112 & 10005211 & 1 & JAKAFI & Oral &  &  &  & $\\dots$ \\\\\n",
       "\t3 & 100052112 & 10005211 & 1 & JAKAFI & Oral &  &  &  & $\\dots$ \\\\\n",
       "\t4 & 100052112 & 10005211 & 2 & JAKAFI & Oral &  & 5.0 & MG & $\\dots$ \\\\\n",
       "\t5 & 100052112 & 10005211 & 2 & JAKAFI & Oral &  & 5.0 & MG & $\\dots$ \\\\\n",
       "\t6 & 100052112 & 10005211 & 2 & JAKAFI & Oral &  & 5.0 & MG & $\\dots$ \\\\\n",
       "\t7 & 100052112 & 10005211 & 3 & JAKAFI & Oral &  & 15.0 & MG & $\\dots$ \\\\\n",
       "\t$\\dots$ & $\\dots$ & $\\dots$ & $\\dots$ & $\\dots$ & $\\dots$ & $\\dots$ & $\\dots$ & $\\dots$ &  \\\\\n",
       "\\end{tabular}\n"
      ],
      "text/plain": [
       "6943850×28 DataFrame\n"
      ]
     },
     "metadata": {},
     "output_type": "display_data"
    }
   ],
   "source": [
    "# Show dataframe faers17q2_2\n",
    "withenv(\"LINES\" => 7) do\n",
    "    display(faers17q2_2)\n",
    "end"
   ]
  },
  {
   "cell_type": "code",
   "execution_count": 21,
   "metadata": {},
   "outputs": [
    {
     "data": {
      "text/html": [
       "<table class=\"data-frame\"><thead><tr><th></th><th>drugname</th><th>pt</th><th>count_dpt_17q2</th></tr><tr><th></th><th>String</th><th>String⍰</th><th>Int64</th></tr></thead><tbody><p>1,428,007 rows × 3 columns</p><tr><th>1</th><td>JAKAFI</td><td>Blood count abnormal</td><td>170</td></tr><tr><th>2</th><td>JAKAFI</td><td>Fatigue</td><td>552</td></tr><tr><th>3</th><td>JAKAFI</td><td>Tooth discolouration</td><td>3</td></tr><tr><th>4</th><td>PROPANOLOL                         /00030001/</td><td>Blood count abnormal</td><td>2</td></tr><tr><th>5</th><td>PROPANOLOL                         /00030001/</td><td>Fatigue</td><td>6</td></tr><tr><th>6</th><td>PROPANOLOL                         /00030001/</td><td>Tooth discolouration</td><td>2</td></tr><tr><th>7</th><td>REVLIMID</td><td>Amaurosis fugax</td><td>12</td></tr><tr><th>8</th><td>REVLIMID</td><td>Atrial fibrillation</td><td>237</td></tr><tr><th>9</th><td>REVLIMID</td><td>Constipation</td><td>492</td></tr><tr><th>10</th><td>REVLIMID</td><td>Death</td><td>932</td></tr><tr><th>&vellip;</th><td>&vellip;</td><td>&vellip;</td><td>&vellip;</td></tr></tbody></table>"
      ],
      "text/latex": [
       "\\begin{tabular}{r|ccc}\n",
       "\t& drugname & pt & count\\_dpt\\_17q2\\\\\n",
       "\t\\hline\n",
       "\t& String & String⍰ & Int64\\\\\n",
       "\t\\hline\n",
       "\t1 & JAKAFI & Blood count abnormal & 170 \\\\\n",
       "\t2 & JAKAFI & Fatigue & 552 \\\\\n",
       "\t3 & JAKAFI & Tooth discolouration & 3 \\\\\n",
       "\t4 & PROPANOLOL                         /00030001/ & Blood count abnormal & 2 \\\\\n",
       "\t5 & PROPANOLOL                         /00030001/ & Fatigue & 6 \\\\\n",
       "\t6 & PROPANOLOL                         /00030001/ & Tooth discolouration & 2 \\\\\n",
       "\t7 & REVLIMID & Amaurosis fugax & 12 \\\\\n",
       "\t8 & REVLIMID & Atrial fibrillation & 237 \\\\\n",
       "\t9 & REVLIMID & Constipation & 492 \\\\\n",
       "\t10 & REVLIMID & Death & 932 \\\\\n",
       "\t$\\dots$ & $\\dots$ & $\\dots$ & $\\dots$ \\\\\n",
       "\\end{tabular}\n"
      ],
      "text/plain": [
       "1428007×3 DataFrame\n"
      ]
     },
     "metadata": {},
     "output_type": "display_data"
    }
   ],
   "source": [
    "#Show dataframe faers17q2_3\n",
    "displayrecs(faers17q2_3, 10)"
   ]
  },
  {
   "cell_type": "code",
   "execution_count": 22,
   "metadata": {},
   "outputs": [
    {
     "data": {
      "text/html": [
       "<table class=\"data-frame\"><thead><tr><th></th><th>primaryid</th><th>caseid</th><th>drug_seq</th><th>drugname</th><th>route</th></tr><tr><th></th><th>Int64</th><th>Int64</th><th>Int64</th><th>String</th><th>String⍰</th></tr></thead><tbody><p>6,943,850 rows × 30 columns (omitted printing of 25 columns)</p><tr><th>1</th><td>100052112</td><td>10005211</td><td>1</td><td>JAKAFI</td><td>Oral</td></tr><tr><th>2</th><td>100052112</td><td>10005211</td><td>1</td><td>JAKAFI</td><td>Oral</td></tr><tr><th>3</th><td>100052112</td><td>10005211</td><td>1</td><td>JAKAFI</td><td>Oral</td></tr><tr><th>4</th><td>100052112</td><td>10005211</td><td>2</td><td>JAKAFI</td><td>Oral</td></tr><tr><th>5</th><td>100052112</td><td>10005211</td><td>2</td><td>JAKAFI</td><td>Oral</td></tr><tr><th>6</th><td>100052112</td><td>10005211</td><td>2</td><td>JAKAFI</td><td>Oral</td></tr><tr><th>7</th><td>100052112</td><td>10005211</td><td>3</td><td>JAKAFI</td><td>Oral</td></tr><tr><th>8</th><td>100052112</td><td>10005211</td><td>3</td><td>JAKAFI</td><td>Oral</td></tr><tr><th>9</th><td>100052112</td><td>10005211</td><td>3</td><td>JAKAFI</td><td>Oral</td></tr><tr><th>10</th><td>100052112</td><td>10005211</td><td>4</td><td>PROPANOLOL                         /00030001/</td><td>Oral</td></tr><tr><th>&vellip;</th><td>&vellip;</td><td>&vellip;</td><td>&vellip;</td><td>&vellip;</td><td>&vellip;</td></tr></tbody></table>"
      ],
      "text/latex": [
       "\\begin{tabular}{r|cccccc}\n",
       "\t& primaryid & caseid & drug\\_seq & drugname & route & \\\\\n",
       "\t\\hline\n",
       "\t& Int64 & Int64 & Int64 & String & String⍰ & \\\\\n",
       "\t\\hline\n",
       "\t1 & 100052112 & 10005211 & 1 & JAKAFI & Oral & $\\dots$ \\\\\n",
       "\t2 & 100052112 & 10005211 & 1 & JAKAFI & Oral & $\\dots$ \\\\\n",
       "\t3 & 100052112 & 10005211 & 1 & JAKAFI & Oral & $\\dots$ \\\\\n",
       "\t4 & 100052112 & 10005211 & 2 & JAKAFI & Oral & $\\dots$ \\\\\n",
       "\t5 & 100052112 & 10005211 & 2 & JAKAFI & Oral & $\\dots$ \\\\\n",
       "\t6 & 100052112 & 10005211 & 2 & JAKAFI & Oral & $\\dots$ \\\\\n",
       "\t7 & 100052112 & 10005211 & 3 & JAKAFI & Oral & $\\dots$ \\\\\n",
       "\t8 & 100052112 & 10005211 & 3 & JAKAFI & Oral & $\\dots$ \\\\\n",
       "\t9 & 100052112 & 10005211 & 3 & JAKAFI & Oral & $\\dots$ \\\\\n",
       "\t10 & 100052112 & 10005211 & 4 & PROPANOLOL                         /00030001/ & Oral & $\\dots$ \\\\\n",
       "\t$\\dots$ & $\\dots$ & $\\dots$ & $\\dots$ & $\\dots$ & $\\dots$ &  \\\\\n",
       "\\end{tabular}\n"
      ],
      "text/plain": [
       "6943850×30 DataFrame\n"
      ]
     },
     "metadata": {},
     "output_type": "display_data"
    }
   ],
   "source": [
    "#Show dataframe faers17q2_4\n",
    "displayrecs(faers17q2_4, 10)"
   ]
  },
  {
   "cell_type": "code",
   "execution_count": 23,
   "metadata": {
    "scrolled": true
   },
   "outputs": [
    {
     "data": {
      "text/html": [
       "<table class=\"data-frame\"><thead><tr><th></th><th>primaryid</th><th>caseid</th><th>drug_seq</th><th>drugname</th><th>route</th></tr><tr><th></th><th>Int64</th><th>Int64</th><th>Int64</th><th>String</th><th>String⍰</th></tr></thead><tbody><p>10 rows × 30 columns (omitted printing of 25 columns)</p><tr><th>1</th><td>100052112</td><td>10005211</td><td>1</td><td>JAKAFI</td><td>Oral</td></tr><tr><th>2</th><td>100052112</td><td>10005211</td><td>1</td><td>JAKAFI</td><td>Oral</td></tr><tr><th>3</th><td>100052112</td><td>10005211</td><td>1</td><td>JAKAFI</td><td>Oral</td></tr><tr><th>4</th><td>100052112</td><td>10005211</td><td>2</td><td>JAKAFI</td><td>Oral</td></tr><tr><th>5</th><td>100052112</td><td>10005211</td><td>2</td><td>JAKAFI</td><td>Oral</td></tr><tr><th>6</th><td>100052112</td><td>10005211</td><td>2</td><td>JAKAFI</td><td>Oral</td></tr><tr><th>7</th><td>100052112</td><td>10005211</td><td>3</td><td>JAKAFI</td><td>Oral</td></tr><tr><th>8</th><td>100052112</td><td>10005211</td><td>3</td><td>JAKAFI</td><td>Oral</td></tr><tr><th>9</th><td>100052112</td><td>10005211</td><td>3</td><td>JAKAFI</td><td>Oral</td></tr><tr><th>10</th><td>100052112</td><td>10005211</td><td>4</td><td>PROPANOLOL                         /00030001/</td><td>Oral</td></tr></tbody></table>"
      ],
      "text/latex": [
       "\\begin{tabular}{r|cccccc}\n",
       "\t& primaryid & caseid & drug\\_seq & drugname & route & \\\\\n",
       "\t\\hline\n",
       "\t& Int64 & Int64 & Int64 & String & String⍰ & \\\\\n",
       "\t\\hline\n",
       "\t1 & 100052112 & 10005211 & 1 & JAKAFI & Oral & $\\dots$ \\\\\n",
       "\t2 & 100052112 & 10005211 & 1 & JAKAFI & Oral & $\\dots$ \\\\\n",
       "\t3 & 100052112 & 10005211 & 1 & JAKAFI & Oral & $\\dots$ \\\\\n",
       "\t4 & 100052112 & 10005211 & 2 & JAKAFI & Oral & $\\dots$ \\\\\n",
       "\t5 & 100052112 & 10005211 & 2 & JAKAFI & Oral & $\\dots$ \\\\\n",
       "\t6 & 100052112 & 10005211 & 2 & JAKAFI & Oral & $\\dots$ \\\\\n",
       "\t7 & 100052112 & 10005211 & 3 & JAKAFI & Oral & $\\dots$ \\\\\n",
       "\t8 & 100052112 & 10005211 & 3 & JAKAFI & Oral & $\\dots$ \\\\\n",
       "\t9 & 100052112 & 10005211 & 3 & JAKAFI & Oral & $\\dots$ \\\\\n",
       "\t10 & 100052112 & 10005211 & 4 & PROPANOLOL                         /00030001/ & Oral & $\\dots$ \\\\\n",
       "\\end{tabular}\n"
      ],
      "text/plain": [
       "10×30 DataFrame. Omitted printing of 27 columns\n",
       "│ Row │ primaryid │ caseid   │ drug_seq │\n",
       "│     │ \u001b[90mInt64\u001b[39m     │ \u001b[90mInt64\u001b[39m    │ \u001b[90mInt64\u001b[39m    │\n",
       "├─────┼───────────┼──────────┼──────────┤\n",
       "│ 1   │ 100052112 │ 10005211 │ 1        │\n",
       "│ 2   │ 100052112 │ 10005211 │ 1        │\n",
       "│ 3   │ 100052112 │ 10005211 │ 1        │\n",
       "│ 4   │ 100052112 │ 10005211 │ 2        │\n",
       "│ 5   │ 100052112 │ 10005211 │ 2        │\n",
       "│ 6   │ 100052112 │ 10005211 │ 2        │\n",
       "│ 7   │ 100052112 │ 10005211 │ 3        │\n",
       "│ 8   │ 100052112 │ 10005211 │ 3        │\n",
       "│ 9   │ 100052112 │ 10005211 │ 3        │\n",
       "│ 10  │ 100052112 │ 10005211 │ 4        │"
      ]
     },
     "execution_count": 23,
     "metadata": {},
     "output_type": "execute_result"
    }
   ],
   "source": [
    "# View final dataset.  ETL is complete for all drugs in Q2 2017. **Note the use of the \"first\" function.\n",
    "first(faers17q2_4, 10)"
   ]
  },
  {
   "cell_type": "code",
   "execution_count": 24,
   "metadata": {},
   "outputs": [
    {
     "name": "stdout",
     "output_type": "stream",
     "text": [
      "Summary Stats:\n",
      "Length:         6943850\n",
      "Missing Count:  0\n",
      "Mean:           2.358400\n",
      "Minimum:        0.001091\n",
      "1st Quartile:   0.071788\n",
      "Median:         0.247934\n",
      "3rd Quartile:   0.844322\n",
      "Maximum:        100.000000\n",
      "Type:           Float64\n"
     ]
    }
   ],
   "source": [
    "# Exploring with the describe() function:\n",
    "drug_case_pct = faers17q2_4[:count_percentage_17q2]\n",
    "describe(drug_case_pct)"
   ]
  },
  {
   "cell_type": "code",
   "execution_count": 25,
   "metadata": {},
   "outputs": [
    {
     "name": "stdout",
     "output_type": "stream",
     "text": [
      "Number of records in pilot_data is 1173\n"
     ]
    },
    {
     "data": {
      "text/html": [
       "<table class=\"data-frame\"><thead><tr><th></th><th>primaryid</th><th>caseid</th><th>drug_seq</th><th>drugname</th><th>route</th><th>cum_dose_chr</th><th>dose_amt</th><th>dose_unit</th></tr><tr><th></th><th>Int64</th><th>Int64</th><th>Int64</th><th>String</th><th>String⍰</th><th>Float64⍰</th><th>Float64⍰</th><th>String⍰</th></tr></thead><tbody><p>10 rows × 30 columns (omitted printing of 22 columns)</p><tr><th>1</th><td>1070043015</td><td>10700430</td><td>3</td><td>ATACAND</td><td>Oral</td><td>missing</td><td>16.0</td><td>MG</td></tr><tr><th>2</th><td>1070043015</td><td>10700430</td><td>3</td><td>ATACAND</td><td>Oral</td><td>missing</td><td>16.0</td><td>MG</td></tr><tr><th>3</th><td>1070043015</td><td>10700430</td><td>3</td><td>ATACAND</td><td>Oral</td><td>missing</td><td>16.0</td><td>MG</td></tr><tr><th>4</th><td>1070043015</td><td>10700430</td><td>3</td><td>ATACAND</td><td>Oral</td><td>missing</td><td>16.0</td><td>MG</td></tr><tr><th>5</th><td>1070043015</td><td>10700430</td><td>3</td><td>ATACAND</td><td>Oral</td><td>missing</td><td>16.0</td><td>MG</td></tr><tr><th>6</th><td>112534959</td><td>11253495</td><td>12</td><td>ATACAND</td><td>Unknown</td><td>missing</td><td>8.0</td><td>MG</td></tr><tr><th>7</th><td>112534959</td><td>11253495</td><td>12</td><td>ATACAND</td><td>Unknown</td><td>missing</td><td>8.0</td><td>MG</td></tr><tr><th>8</th><td>112534959</td><td>11253495</td><td>12</td><td>ATACAND</td><td>Unknown</td><td>missing</td><td>8.0</td><td>MG</td></tr><tr><th>9</th><td>112534959</td><td>11253495</td><td>12</td><td>ATACAND</td><td>Unknown</td><td>missing</td><td>8.0</td><td>MG</td></tr><tr><th>10</th><td>112534959</td><td>11253495</td><td>12</td><td>ATACAND</td><td>Unknown</td><td>missing</td><td>8.0</td><td>MG</td></tr></tbody></table>"
      ],
      "text/latex": [
       "\\begin{tabular}{r|ccccccccc}\n",
       "\t& primaryid & caseid & drug\\_seq & drugname & route & cum\\_dose\\_chr & dose\\_amt & dose\\_unit & \\\\\n",
       "\t\\hline\n",
       "\t& Int64 & Int64 & Int64 & String & String⍰ & Float64⍰ & Float64⍰ & String⍰ & \\\\\n",
       "\t\\hline\n",
       "\t1 & 1070043015 & 10700430 & 3 & ATACAND & Oral &  & 16.0 & MG & $\\dots$ \\\\\n",
       "\t2 & 1070043015 & 10700430 & 3 & ATACAND & Oral &  & 16.0 & MG & $\\dots$ \\\\\n",
       "\t3 & 1070043015 & 10700430 & 3 & ATACAND & Oral &  & 16.0 & MG & $\\dots$ \\\\\n",
       "\t4 & 1070043015 & 10700430 & 3 & ATACAND & Oral &  & 16.0 & MG & $\\dots$ \\\\\n",
       "\t5 & 1070043015 & 10700430 & 3 & ATACAND & Oral &  & 16.0 & MG & $\\dots$ \\\\\n",
       "\t6 & 112534959 & 11253495 & 12 & ATACAND & Unknown &  & 8.0 & MG & $\\dots$ \\\\\n",
       "\t7 & 112534959 & 11253495 & 12 & ATACAND & Unknown &  & 8.0 & MG & $\\dots$ \\\\\n",
       "\t8 & 112534959 & 11253495 & 12 & ATACAND & Unknown &  & 8.0 & MG & $\\dots$ \\\\\n",
       "\t9 & 112534959 & 11253495 & 12 & ATACAND & Unknown &  & 8.0 & MG & $\\dots$ \\\\\n",
       "\t10 & 112534959 & 11253495 & 12 & ATACAND & Unknown &  & 8.0 & MG & $\\dots$ \\\\\n",
       "\\end{tabular}\n"
      ],
      "text/plain": [
       "10×30 DataFrame. Omitted printing of 24 columns\n",
       "│ Row │ primaryid  │ caseid   │ drug_seq │ drugname │ route   │ cum_dose_chr │\n",
       "│     │ \u001b[90mInt64\u001b[39m      │ \u001b[90mInt64\u001b[39m    │ \u001b[90mInt64\u001b[39m    │ \u001b[90mString\u001b[39m   │ \u001b[90mString⍰\u001b[39m │ \u001b[90mFloat64⍰\u001b[39m     │\n",
       "├─────┼────────────┼──────────┼──────────┼──────────┼─────────┼──────────────┤\n",
       "│ 1   │ 1070043015 │ 10700430 │ 3        │ ATACAND  │ Oral    │ \u001b[90mmissing\u001b[39m      │\n",
       "│ 2   │ 1070043015 │ 10700430 │ 3        │ ATACAND  │ Oral    │ \u001b[90mmissing\u001b[39m      │\n",
       "│ 3   │ 1070043015 │ 10700430 │ 3        │ ATACAND  │ Oral    │ \u001b[90mmissing\u001b[39m      │\n",
       "│ 4   │ 1070043015 │ 10700430 │ 3        │ ATACAND  │ Oral    │ \u001b[90mmissing\u001b[39m      │\n",
       "│ 5   │ 1070043015 │ 10700430 │ 3        │ ATACAND  │ Oral    │ \u001b[90mmissing\u001b[39m      │\n",
       "│ 6   │ 112534959  │ 11253495 │ 12       │ ATACAND  │ Unknown │ \u001b[90mmissing\u001b[39m      │\n",
       "│ 7   │ 112534959  │ 11253495 │ 12       │ ATACAND  │ Unknown │ \u001b[90mmissing\u001b[39m      │\n",
       "│ 8   │ 112534959  │ 11253495 │ 12       │ ATACAND  │ Unknown │ \u001b[90mmissing\u001b[39m      │\n",
       "│ 9   │ 112534959  │ 11253495 │ 12       │ ATACAND  │ Unknown │ \u001b[90mmissing\u001b[39m      │\n",
       "│ 10  │ 112534959  │ 11253495 │ 12       │ ATACAND  │ Unknown │ \u001b[90mmissing\u001b[39m      │"
      ]
     },
     "execution_count": 25,
     "metadata": {},
     "output_type": "execute_result"
    }
   ],
   "source": [
    "# Isolate the pilot drug\n",
    "pilot_data = faers17q2_4[faers17q2_4[:drugname] .== \"ATACAND\", :]\n",
    "@prtnumrecs(pilot_data)\n",
    "\n",
    "# View pilot_data dataset.  ETL is complete.\n",
    "first(pilot_data, 10)"
   ]
  },
  {
   "cell_type": "markdown",
   "metadata": {},
   "source": [
    "## Code: Algorithms and Analytics"
   ]
  },
  {
   "cell_type": "markdown",
   "metadata": {},
   "source": [
    "### Code: Analysis Data Subsets"
   ]
  },
  {
   "cell_type": "code",
   "execution_count": 26,
   "metadata": {},
   "outputs": [
    {
     "data": {
      "text/html": [
       "<table class=\"data-frame\"><thead><tr><th></th><th>primaryid</th><th>gender</th><th>pt</th><th>occr_country</th><th>drugname</th></tr><tr><th></th><th>Int64</th><th>String⍰</th><th>String⍰</th><th>String⍰</th><th>String</th></tr></thead><tbody><p>6,943,850 rows × 14 columns (omitted printing of 9 columns)</p><tr><th>1</th><td>100052112</td><td>missing</td><td>Fatigue</td><td>US</td><td>JAKAFI</td></tr><tr><th>2</th><td>100052112</td><td>missing</td><td>Fatigue</td><td>US</td><td>JAKAFI</td></tr><tr><th>3</th><td>100052112</td><td>missing</td><td>Fatigue</td><td>US</td><td>JAKAFI</td></tr><tr><th>4</th><td>100052112</td><td>missing</td><td>Fatigue</td><td>US</td><td>PROPANOLOL                         /00030001/</td></tr><tr><th>5</th><td>100052112</td><td>missing</td><td>Fatigue</td><td>US</td><td>PROPANOLOL                         /00030001/</td></tr><tr><th>&vellip;</th><td>&vellip;</td><td>&vellip;</td><td>&vellip;</td><td>&vellip;</td><td>&vellip;</td></tr></tbody></table>"
      ],
      "text/latex": [
       "\\begin{tabular}{r|cccccc}\n",
       "\t& primaryid & gender & pt & occr\\_country & drugname & \\\\\n",
       "\t\\hline\n",
       "\t& Int64 & String⍰ & String⍰ & String⍰ & String & \\\\\n",
       "\t\\hline\n",
       "\t1 & 100052112 &  & Fatigue & US & JAKAFI & $\\dots$ \\\\\n",
       "\t2 & 100052112 &  & Fatigue & US & JAKAFI & $\\dots$ \\\\\n",
       "\t3 & 100052112 &  & Fatigue & US & JAKAFI & $\\dots$ \\\\\n",
       "\t4 & 100052112 &  & Fatigue & US & PROPANOLOL                         /00030001/ & $\\dots$ \\\\\n",
       "\t5 & 100052112 &  & Fatigue & US & PROPANOLOL                         /00030001/ & $\\dots$ \\\\\n",
       "\t$\\dots$ & $\\dots$ & $\\dots$ & $\\dots$ & $\\dots$ & $\\dots$ &  \\\\\n",
       "\\end{tabular}\n"
      ],
      "text/plain": [
       "6943850×14 DataFrame\n"
      ]
     },
     "metadata": {},
     "output_type": "display_data"
    }
   ],
   "source": [
    "# Creating dataframe for showing drug/pt combinations (using data from all drugs)\n",
    "\n",
    "dall = faers17q2_4[:, [:primaryid, :sex, :pt, :occr_country, :drugname, \n",
    "    :age, :age_grp, :role_cod, :rpsr_cod, :count_pt_17q2, :count_dpt_17q2,\n",
    "    :count_percentage_17q2]]\n",
    "\n",
    "# Add a denominator and percentage\n",
    "dall[:alldenom] = nrow(dall)\n",
    "dall[:alldptpc] = (dall[:count_pt_17q2] ./ dall[:alldenom]) .* 100;\n",
    "\n",
    "# Match the specs by renaming then sort in descending order\n",
    "rename!(dall, :sex => :gender)\n",
    "sort!(dall, :count_pt_17q2, rev = true)\n",
    "  \n",
    "#See some results\n",
    "displayrecs(dall, 5)  "
   ]
  },
  {
   "cell_type": "code",
   "execution_count": 27,
   "metadata": {},
   "outputs": [
    {
     "data": {
      "text/html": [
       "<table class=\"data-frame\"><thead><tr><th></th><th>primaryid</th><th>gender</th><th>pt</th><th>occr_country</th><th>drugname</th><th>age</th><th>age_grp</th><th>role_cod</th></tr><tr><th></th><th>Int64</th><th>String⍰</th><th>String⍰</th><th>String⍰</th><th>String</th><th>Int64⍰</th><th>String⍰</th><th>String</th></tr></thead><tbody><p>1,173 rows × 14 columns (omitted printing of 6 columns)</p><tr><th>1</th><td>1070043015</td><td>F</td><td>Dyspnoea</td><td>IL</td><td>ATACAND</td><td>66</td><td>missing</td><td>C</td></tr><tr><th>2</th><td>121678239</td><td>M</td><td>Dyspnoea</td><td>LB</td><td>ATACAND</td><td>56</td><td>missing</td><td>C</td></tr><tr><th>3</th><td>121678239</td><td>M</td><td>Dyspnoea</td><td>LB</td><td>ATACAND</td><td>56</td><td>missing</td><td>C</td></tr><tr><th>4</th><td>124472756</td><td>M</td><td>Dyspnoea</td><td>CA</td><td>ATACAND</td><td>83</td><td>missing</td><td>C</td></tr><tr><th>5</th><td>124472756</td><td>M</td><td>Dyspnoea</td><td>CA</td><td>ATACAND</td><td>83</td><td>missing</td><td>C</td></tr><tr><th>&vellip;</th><td>&vellip;</td><td>&vellip;</td><td>&vellip;</td><td>&vellip;</td><td>&vellip;</td><td>&vellip;</td><td>&vellip;</td><td>&vellip;</td></tr></tbody></table>"
      ],
      "text/latex": [
       "\\begin{tabular}{r|ccccccccc}\n",
       "\t& primaryid & gender & pt & occr\\_country & drugname & age & age\\_grp & role\\_cod & \\\\\n",
       "\t\\hline\n",
       "\t& Int64 & String⍰ & String⍰ & String⍰ & String & Int64⍰ & String⍰ & String & \\\\\n",
       "\t\\hline\n",
       "\t1 & 1070043015 & F & Dyspnoea & IL & ATACAND & 66 &  & C & $\\dots$ \\\\\n",
       "\t2 & 121678239 & M & Dyspnoea & LB & ATACAND & 56 &  & C & $\\dots$ \\\\\n",
       "\t3 & 121678239 & M & Dyspnoea & LB & ATACAND & 56 &  & C & $\\dots$ \\\\\n",
       "\t4 & 124472756 & M & Dyspnoea & CA & ATACAND & 83 &  & C & $\\dots$ \\\\\n",
       "\t5 & 124472756 & M & Dyspnoea & CA & ATACAND & 83 &  & C & $\\dots$ \\\\\n",
       "\t$\\dots$ & $\\dots$ & $\\dots$ & $\\dots$ & $\\dots$ & $\\dots$ & $\\dots$ & $\\dots$ & $\\dots$ &  \\\\\n",
       "\\end{tabular}\n"
      ],
      "text/plain": [
       "1173×14 DataFrame\n"
      ]
     },
     "metadata": {},
     "output_type": "display_data"
    }
   ],
   "source": [
    "# Creating dataframe for showing drug/pt combinations (using data for pilot drug - Atacand\n",
    "\n",
    "datt = pilot_data[:, [:primaryid, :sex, :pt, :occr_country, :drugname, \n",
    "    :age, :age_grp, :role_cod, :rpsr_cod, :count_pt_17q2, :count_dpt_17q2,\n",
    "    :count_percentage_17q2]]\n",
    "\n",
    "# Add a denominator and percentage\n",
    "datt[:attdenom] = nrow(datt)\n",
    "datt[:attdptpc] = (datt[:count_dpt_17q2] ./ datt[:attdenom]) .* 100;\n",
    "\n",
    "# Match the specs by renaming then sort in descending order\n",
    "rename!(datt, :sex => :gender)\n",
    "sort!(datt, :count_dpt_17q2, rev = true)\n",
    "  \n",
    "# See some results\n",
    "displayrecs(datt, 5)"
   ]
  },
  {
   "cell_type": "markdown",
   "metadata": {},
   "source": [
    "## Code: Visualizations"
   ]
  },
  {
   "cell_type": "markdown",
   "metadata": {},
   "source": [
    "The following are required visualizations based on the 2018 FAERS pilot:\n",
    "\n",
    "* Pie chart of gender in subset for drug \n",
    "    * OCCR_COUNTRY in DEMOYYQq\n",
    "* Bar chart of adverse events by age group in subset for drug \n",
    "    * AGE_GRP in DEMOyyQq   \n",
    "* Bar chart of role of the drug for adverse event in subset for drug \n",
    "    * ROLE_COD in DRUGyyQq\n",
    "* Table of adverse events by drug, adverse events by drug (Q2), AE % in 2017 Q2 caused by drug\n",
    "* Adverse event, SOC counts \n",
    "* Adverse event counts by quarter \n",
    "* Geomap of adverse events by country \n",
    "    * OCCR_COUNTRY in DEMOYYQq"
   ]
  },
  {
   "cell_type": "markdown",
   "metadata": {},
   "source": [
    "### Code: Pie/Bar Chart of gender in 2017Q2"
   ]
  },
  {
   "cell_type": "code",
   "execution_count": 28,
   "metadata": {},
   "outputs": [
    {
     "data": {
      "text/html": [
       "<table class=\"data-frame\"><thead><tr><th></th><th>gender</th><th>frequency</th><th>gen_pct</th></tr><tr><th></th><th>String⍰</th><th>Int64</th><th>Float64</th></tr></thead><tbody><p>3 rows × 3 columns</p><tr><th>1</th><td>F</td><td>634</td><td>54.0494</td></tr><tr><th>2</th><td>M</td><td>448</td><td>38.1927</td></tr><tr><th>3</th><td>missing</td><td>91</td><td>7.75789</td></tr></tbody></table>"
      ],
      "text/latex": [
       "\\begin{tabular}{r|ccc}\n",
       "\t& gender & frequency & gen\\_pct\\\\\n",
       "\t\\hline\n",
       "\t& String⍰ & Int64 & Float64\\\\\n",
       "\t\\hline\n",
       "\t1 & F & 634 & 54.0494 \\\\\n",
       "\t2 & M & 448 & 38.1927 \\\\\n",
       "\t3 &  & 91 & 7.75789 \\\\\n",
       "\\end{tabular}\n"
      ],
      "text/plain": [
       "3×3 DataFrame\n"
      ]
     },
     "metadata": {},
     "output_type": "display_data"
    },
    {
     "name": "stdout",
     "output_type": "stream",
     "text": [
      "The value of pieden: 1173\n"
     ]
    }
   ],
   "source": [
    "# Set up data presentation on Atacand - pie/bar charts\n",
    "\n",
    "# Get the denominator for AEs\n",
    "pieden = size(datt, 1)\n",
    "\n",
    "# Setup a dataframe to be used for graphing\n",
    "piegen = by(datt, :gender, nrow)\n",
    "    sort!(piegen, :x1, rev = true)\n",
    "    rename!(piegen, :x1 => :frequency)\n",
    "\n",
    "# Check the numbers by printing the vector and the dataframe\n",
    "println(\"The value of pieden: \", pieden)\n",
    "\n",
    "# Create a new vector containing the percentage for each row within the dataframe\n",
    "piegen[:gen_pct] =\n",
    "    (piegen[:frequency] ./ pieden .* 100);\n",
    "\n",
    "# Display some of the data from the dataframe\n",
    "displayrecs(piegen,5)"
   ]
  },
  {
   "cell_type": "code",
   "execution_count": 29,
   "metadata": {
    "scrolled": true
   },
   "outputs": [
    {
     "data": {
      "image/svg+xml": [
       "<?xml version=\"1.0\" encoding=\"utf-8\"?>\n",
       "<svg xmlns=\"http://www.w3.org/2000/svg\" xmlns:xlink=\"http://www.w3.org/1999/xlink\" width=\"600\" height=\"400\" viewBox=\"0 0 2400 1600\">\n",
       "<defs>\n",
       "  <clipPath id=\"clip8100\">\n",
       "    <rect x=\"0\" y=\"0\" width=\"2400\" height=\"1600\"/>\n",
       "  </clipPath>\n",
       "</defs>\n",
       "<polygon clip-path=\"url(#clip8100)\" points=\"\n",
       "0,1600 2400,1600 2400,0 0,0 \n",
       "  \" fill=\"#ffffff\" fill-rule=\"evenodd\" fill-opacity=\"1\"/>\n",
       "<defs>\n",
       "  <clipPath id=\"clip8101\">\n",
       "    <rect x=\"480\" y=\"0\" width=\"1681\" height=\"1600\"/>\n",
       "  </clipPath>\n",
       "</defs>\n",
       "<polygon clip-path=\"url(#clip8100)\" points=\"\n",
       "47.2441,1552.76 2352.76,1552.76 2352.76,121.675 47.2441,121.675 \n",
       "  \" fill=\"#ffffff\" fill-rule=\"evenodd\" fill-opacity=\"1\"/>\n",
       "<defs>\n",
       "  <clipPath id=\"clip8102\">\n",
       "    <rect x=\"47\" y=\"121\" width=\"2307\" height=\"1432\"/>\n",
       "  </clipPath>\n",
       "</defs>\n",
       "<g clip-path=\"url(#clip8100)\">\n",
       "<text style=\"fill:#000000; fill-opacity:1; font-family:Arial,Helvetica Neue,Helvetica,sans-serif; font-size:84px; text-anchor:middle;\" transform=\"rotate(0, 1200, 73.2)\" x=\"1200\" y=\"73.2\">Adverse Events by Gender - Atacand 2017Q2</text>\n",
       "</g>\n",
       "<polygon clip-path=\"url(#clip8100)\" points=\"\n",
       "1200,952.491 1800.26,952.491 1800.17,942.015 1799.9,931.542 1799.44,921.076 1798.8,910.619 1797.98,900.175 1796.98,889.746 1795.79,879.337 1794.42,868.95 \n",
       "  1792.87,858.589 1791.15,848.256 1789.24,837.955 1787.15,827.689 1784.88,817.461 1782.43,807.274 1779.81,797.131 1777.01,787.036 1774.04,776.991 1770.89,766.999 \n",
       "  1767.56,757.064 1764.06,747.188 1760.4,737.375 1756.56,727.628 1752.55,717.949 1748.37,708.341 1744.02,698.808 1739.51,689.352 1734.84,679.977 1730,670.684 \n",
       "  1725,661.477 1719.84,652.359 1714.53,643.332 1709.05,634.399 1703.42,625.563 1697.64,616.827 1691.71,608.193 1685.62,599.664 1679.39,591.243 1673.02,582.931 \n",
       "  1666.49,574.732 1659.83,566.648 1653.03,558.682 1646.08,550.836 1639.01,543.112 1631.79,535.512 1624.45,528.04 1616.98,520.697 1609.38,513.485 1601.66,506.407 \n",
       "  1593.81,499.466 1585.84,492.662 1577.76,485.998 1569.56,479.476 1561.25,473.098 1552.83,466.867 1544.3,460.783 1535.66,454.849 1526.93,449.067 1518.09,443.438 \n",
       "  1509.16,437.964 1500.13,432.647 1491.01,427.488 1481.81,422.489 1472.51,417.651 1463.14,412.977 1453.68,408.466 1444.15,404.122 1434.54,399.944 1424.86,395.935 \n",
       "  1415.12,392.096 1405.3,388.427 1395.43,384.93 1385.49,381.605 1375.5,378.455 1365.46,375.48 1355.36,372.68 1345.22,370.057 1335.03,367.611 1324.8,365.344 \n",
       "  1314.54,363.255 1304.23,361.346 1293.9,359.617 1283.54,358.068 1273.15,356.701 1262.74,355.515 1252.32,354.511 1241.87,353.689 1231.42,353.049 1220.95,352.592 \n",
       "  1210.48,352.318 1200,352.226 1189.52,352.318 1179.05,352.592 1168.58,353.049 1158.13,353.689 1147.68,354.511 1137.26,355.515 1126.85,356.701 1116.46,358.068 \n",
       "  1106.1,359.617 1095.77,361.346 1085.46,363.255 1075.2,365.344 1064.97,367.611 1054.78,370.057 1044.64,372.68 1034.54,375.48 1024.5,378.455 1014.51,381.605 \n",
       "  1004.57,384.93 994.697,388.427 984.884,392.096 975.137,395.935 965.458,399.944 955.85,404.122 946.317,408.466 936.861,412.977 927.485,417.651 918.193,422.489 \n",
       "  908.986,427.488 899.868,432.647 890.841,437.964 881.908,443.438 873.072,449.067 864.336,454.849 855.702,460.783 847.173,466.867 838.752,473.098 830.44,479.476 \n",
       "  822.241,485.998 814.157,492.662 806.191,499.466 798.344,506.407 790.62,513.485 783.021,520.697 775.549,528.04 768.206,535.512 760.994,543.112 753.916,550.836 \n",
       "  746.974,558.682 740.17,566.648 733.507,574.732 726.985,582.931 720.607,591.243 714.376,599.664 708.292,608.193 702.358,616.827 696.576,625.563 690.947,634.399 \n",
       "  685.473,643.332 680.155,652.359 674.997,661.477 669.998,670.684 665.16,679.977 660.486,689.352 655.975,698.808 651.631,708.341 647.453,717.949 643.444,727.628 \n",
       "  639.605,737.375 635.936,747.188 632.438,757.064 629.114,766.999 625.964,776.991 622.988,787.036 620.189,797.131 617.566,807.274 615.12,817.461 612.852,827.689 \n",
       "  610.764,837.955 608.855,848.256 607.125,858.589 605.577,868.95 604.209,879.337 603.024,889.746 602.019,900.175 601.197,910.619 600.558,921.076 600.101,931.542 \n",
       "  599.827,942.015 599.735,952.491 599.827,962.967 600.101,973.44 600.558,983.907 601.197,994.363 602.019,1004.81 603.024,1015.24 604.209,1025.64 605.577,1036.03 \n",
       "  607.125,1046.39 608.855,1056.73 610.764,1067.03 612.852,1077.29 615.12,1087.52 617.566,1097.71 620.189,1107.85 \n",
       "  \" fill=\"#ffb200\" fill-rule=\"evenodd\" fill-opacity=\"1\"/>\n",
       "<g clip-path=\"url(#clip8100)\">\n",
       "<text style=\"fill:#000000; fill-opacity:1; font-family:Arial,Helvetica Neue,Helvetica,sans-serif; font-size:48px; text-anchor:end;\" transform=\"rotate(0, 969.815, 315.349)\" x=\"969.815\" y=\"315.349\">F</text>\n",
       "</g>\n",
       "<polyline clip-path=\"url(#clip8100)\" style=\"stroke:#000000; stroke-width:4; stroke-opacity:1; fill:none\" points=\"\n",
       "  1121.65,357.362 1113.81,297.849 993.815,297.849 \n",
       "  \"/>\n",
       "<polygon clip-path=\"url(#clip8100)\" points=\"\n",
       "1200,952.491 620.189,1107.85 622.988,1117.95 625.964,1127.99 629.114,1137.98 632.438,1147.92 635.936,1157.79 639.605,1167.61 643.444,1177.35 647.453,1187.03 \n",
       "  651.631,1196.64 655.975,1206.17 660.486,1215.63 665.16,1225.01 669.998,1234.3 674.997,1243.51 680.155,1252.62 685.473,1261.65 690.947,1270.58 696.576,1279.42 \n",
       "  702.358,1288.15 708.292,1296.79 714.376,1305.32 720.607,1313.74 726.985,1322.05 733.507,1330.25 740.17,1338.33 746.974,1346.3 753.916,1354.15 760.994,1361.87 \n",
       "  768.206,1369.47 775.549,1376.94 783.021,1384.29 790.62,1391.5 798.344,1398.57 806.191,1405.52 814.157,1412.32 822.241,1418.98 830.44,1425.51 838.752,1431.88 \n",
       "  847.173,1438.12 855.702,1444.2 864.336,1450.13 873.072,1455.92 881.908,1461.54 890.841,1467.02 899.868,1472.34 908.986,1477.49 918.193,1482.49 927.485,1487.33 \n",
       "  936.861,1492.01 946.317,1496.52 955.85,1500.86 965.458,1505.04 975.137,1509.05 984.884,1512.89 994.697,1516.56 1004.57,1520.05 1014.51,1523.38 1024.5,1526.53 \n",
       "  1034.54,1529.5 1044.64,1532.3 1054.78,1534.93 1064.97,1537.37 1075.2,1539.64 1085.46,1541.73 1095.77,1543.64 1106.1,1545.37 1116.46,1546.91 1126.85,1548.28 \n",
       "  1137.26,1549.47 1147.68,1550.47 1158.13,1551.29 1168.58,1551.93 1179.05,1552.39 1189.52,1552.66 1200,1552.76 1210.48,1552.66 1220.95,1552.39 1231.42,1551.93 \n",
       "  1241.87,1551.29 1252.32,1550.47 1262.74,1549.47 1273.15,1548.28 1283.54,1546.91 1293.9,1545.37 1304.23,1543.64 1314.54,1541.73 1324.8,1539.64 1335.03,1537.37 \n",
       "  1345.22,1534.93 1355.36,1532.3 1365.46,1529.5 1375.5,1526.53 1385.49,1523.38 1395.43,1520.05 1405.3,1516.56 1415.12,1512.89 1424.86,1509.05 1434.54,1505.04 \n",
       "  1444.15,1500.86 1453.68,1496.52 1463.14,1492.01 1472.51,1487.33 1481.81,1482.49 1491.01,1477.49 1500.13,1472.34 1509.16,1467.02 1518.09,1461.54 1526.93,1455.92 \n",
       "  1535.66,1450.13 1544.3,1444.2 1552.83,1438.12 1561.25,1431.88 1569.56,1425.51 1577.76,1418.98 1585.84,1412.32 1593.81,1405.52 1601.66,1398.57 1609.38,1391.5 \n",
       "  1616.98,1384.29 1624.45,1376.94 1631.79,1369.47 1639.01,1361.87 1646.08,1354.15 1653.03,1346.3 1659.83,1338.33 1666.49,1330.25 1673.02,1322.05 1679.39,1313.74 \n",
       "  1685.62,1305.32 1691.71,1296.79 1697.64,1288.15 1703.42,1279.42 1709.05,1270.58 1714.53,1261.65 1719.84,1252.62 1725,1243.51 1730,1234.3 \n",
       "  \" fill=\"#7f3e74\" fill-rule=\"evenodd\" fill-opacity=\"1\"/>\n",
       "<g clip-path=\"url(#clip8100)\">\n",
       "<text style=\"fill:#000000; fill-opacity:1; font-family:Arial,Helvetica Neue,Helvetica,sans-serif; font-size:48px; text-anchor:end;\" transform=\"rotate(0, 981.253, 1626.04)\" x=\"981.253\" y=\"1626.04\">M</text>\n",
       "</g>\n",
       "<polyline clip-path=\"url(#clip8100)\" style=\"stroke:#000000; stroke-width:4; stroke-opacity:1; fill:none\" points=\"\n",
       "  1132.05,1548.9 1125.25,1608.54 1005.25,1608.54 \n",
       "  \"/>\n",
       "<polygon clip-path=\"url(#clip8100)\" points=\"\n",
       "1200,952.491 1730,1234.3 1734.84,1225.01 1739.51,1215.63 1744.02,1206.17 1748.37,1196.64 1752.55,1187.03 1756.56,1177.35 1760.4,1167.61 1764.06,1157.79 \n",
       "  1767.56,1147.92 1770.89,1137.98 1774.04,1127.99 1777.01,1117.95 1779.81,1107.85 1782.43,1097.71 1784.88,1087.52 1787.15,1077.29 1789.24,1067.03 1791.15,1056.73 \n",
       "  1792.87,1046.39 1794.42,1036.03 1795.79,1025.64 1796.98,1015.24 1797.98,1004.81 1798.8,994.363 1799.44,983.907 1799.9,973.44 1800.17,962.967 1800.26,952.491 \n",
       "  \n",
       "  \" fill=\"#ff6700\" fill-rule=\"evenodd\" fill-opacity=\"1\"/>\n",
       "<g clip-path=\"url(#clip8100)\">\n",
       "<text style=\"fill:#000000; fill-opacity:1; font-family:Arial,Helvetica Neue,Helvetica,sans-serif; font-size:48px; text-anchor:start;\" transform=\"rotate(0, 1984.68, 1129.73)\" x=\"1984.68\" y=\"1129.73\"></text>\n",
       "</g>\n",
       "<polyline clip-path=\"url(#clip8100)\" style=\"stroke:#000000; stroke-width:4; stroke-opacity:1; fill:none\" points=\"\n",
       "  1782.43,1097.71 1840.68,1112.23 1960.68,1112.23 \n",
       "  \"/>\n",
       "</svg>\n"
      ]
     },
     "execution_count": 29,
     "metadata": {},
     "output_type": "execute_result"
    }
   ],
   "source": [
    "#Julia visualization showing Adverse Events by Gender \n",
    "using Plots\n",
    "Plots.gr()\n",
    "\n",
    "pie(piegen.gender,\n",
    "    piegen.gen_pct,\n",
    "    title = \"Adverse Events by Gender - Atacand 2017Q2\")\n",
    "# color={\"gender:n\", scale={range=[\"gray\",\"#e377c2\",\"#1f77b4\"]"
   ]
  },
  {
   "cell_type": "code",
   "execution_count": 30,
   "metadata": {
    "scrolled": true
   },
   "outputs": [
    {
     "data": {
      "application/vnd.vegalite.v3+json": {
       "data": {
        "values": [
         {
          "frequency": 634,
          "gen_pct": 54.049445865302644,
          "gender": "F"
         },
         {
          "frequency": 448,
          "gen_pct": 38.192668371696506,
          "gender": "M"
         },
         {
          "frequency": 91,
          "gen_pct": 7.757885763000852,
          "gender": null
         }
        ]
       },
       "encoding": {
        "color": {
         "field": "gender",
         "scale": {
          "range": [
           "gray",
           "#e377c2",
           "#1f77b4"
          ]
         },
         "type": "nominal"
        },
        "x": {
         "axis": {
          "title": "Gender"
         },
         "field": "gender",
         "type": "nominal"
        },
        "y": {
         "axis": {
          "title": "Percent of AEs"
         },
         "field": "gen_pct",
         "type": "quantitative"
        }
       },
       "height": 400,
       "mark": "bar",
       "title": "Adverse Events by Gender - Atacand 2017Q2",
       "width": 600
      },
      "image/png": "[encoded data removed]",
      "image/svg+xml": [
       "<svg class=\"marks\" width=\"700\" height=\"470\" viewBox=\"0 0 700 470\" version=\"1.1\" xmlns=\"http://www.w3.org/2000/svg\" xmlns:xlink=\"http://www.w3.org/1999/xlink\"><g transform=\"translate(37,27)\"><g class=\"mark-group role-frame root\"><g transform=\"translate(0,0)\"><path class=\"background\" d=\"M0.5,0.5h600v400h-600Z\" style=\"fill: none; stroke: #ddd;\"></path><g><g class=\"mark-group role-axis\"><g transform=\"translate(0.5,0.5)\"><path class=\"background\" d=\"M0,0h0v0h0Z\" style=\"pointer-events: none; fill: none;\"></path><g><g class=\"mark-rule role-axis-grid\" style=\"pointer-events: none;\"><line transform=\"translate(0,400)\" x2=\"600\" y2=\"0\" style=\"fill: none; stroke: #ddd; stroke-width: 1; opacity: 1;\"></line><line transform=\"translate(0,364)\" x2=\"600\" y2=\"0\" style=\"fill: none; stroke: #ddd; stroke-width: 1; opacity: 1;\"></line><line transform=\"translate(0,327)\" x2=\"600\" y2=\"0\" style=\"fill: none; stroke: #ddd; stroke-width: 1; opacity: 1;\"></line><line transform=\"translate(0,291)\" x2=\"600\" y2=\"0\" style=\"fill: none; stroke: #ddd; stroke-width: 1; opacity: 1;\"></line><line transform=\"translate(0,255)\" x2=\"600\" y2=\"0\" style=\"fill: none; stroke: #ddd; stroke-width: 1; opacity: 1;\"></line><line transform=\"translate(0,218)\" x2=\"600\" y2=\"0\" style=\"fill: none; stroke: #ddd; stroke-width: 1; opacity: 1;\"></line><line transform=\"translate(0,182)\" x2=\"600\" y2=\"0\" style=\"fill: none; stroke: #ddd; stroke-width: 1; opacity: 1;\"></line><line transform=\"translate(0,145)\" x2=\"600\" y2=\"0\" style=\"fill: none; stroke: #ddd; stroke-width: 1; opacity: 1;\"></line><line transform=\"translate(0,109)\" x2=\"600\" y2=\"0\" style=\"fill: none; stroke: #ddd; stroke-width: 1; opacity: 1;\"></line><line transform=\"translate(0,73)\" x2=\"600\" y2=\"0\" style=\"fill: none; stroke: #ddd; stroke-width: 1; opacity: 1;\"></line><line transform=\"translate(0,36)\" x2=\"600\" y2=\"0\" style=\"fill: none; stroke: #ddd; stroke-width: 1; opacity: 1;\"></line><line transform=\"translate(0,0)\" x2=\"600\" y2=\"0\" style=\"fill: none; stroke: #ddd; stroke-width: 1; opacity: 1;\"></line></g></g></g></g><g class=\"mark-rect role-mark marks\"><path d=\"M210,6.913120979617133h180v393.08687902038287h-180Z\" style=\"fill: #e377c2;\"></path><path d=\"M410,122.2351391149345h180v277.7648608850655h-180Z\" style=\"fill: #1f77b4;\"></path><path d=\"M10,343.57901263272106h180v56.42098736727894h-180Z\" style=\"fill: gray;\"></path></g><g class=\"mark-group role-legend\"><g transform=\"translate(618,0)\"><path class=\"background\" d=\"M0,0h40v53h-40Z\" style=\"pointer-events: none; fill: none;\"></path><g><g class=\"mark-group role-legend-entry\"><g transform=\"translate(0,16)\"><path class=\"background\" d=\"M0,0h0v0h0Z\" style=\"pointer-events: none; fill: none;\"></path><g><g class=\"mark-group role-scope\"><g transform=\"translate(0,0)\"><path class=\"background\" d=\"M0,0h32v11h-32Z\" style=\"pointer-events: none; fill: none; opacity: 1;\"></path><g><g class=\"mark-symbol role-legend-symbol\" style=\"pointer-events: none;\"><path transform=\"translate(6,6)\" d=\"M-5,-5h10v10h-10Z\" style=\"fill: gray; stroke-width: 1.5; opacity: 1;\"></path></g><g class=\"mark-text role-legend-label\" style=\"pointer-events: none;\"><text text-anchor=\"start\" transform=\"translate(16,9)\" style=\"font-family: sans-serif; font-size: 10px; fill: #000; opacity: 1;\">null</text></g></g></g><g transform=\"translate(0,13)\"><path class=\"background\" d=\"M0,0h32v11h-32Z\" style=\"pointer-events: none; fill: none; opacity: 1;\"></path><g><g class=\"mark-symbol role-legend-symbol\" style=\"pointer-events: none;\"><path transform=\"translate(6,6)\" d=\"M-5,-5h10v10h-10Z\" style=\"fill: #e377c2; stroke-width: 1.5; opacity: 1;\"></path></g><g class=\"mark-text role-legend-label\" style=\"pointer-events: none;\"><text text-anchor=\"start\" transform=\"translate(16,9)\" style=\"font-family: sans-serif; font-size: 10px; fill: #000; opacity: 1;\">F</text></g></g></g><g transform=\"translate(0,26)\"><path class=\"background\" d=\"M0,0h32v11h-32Z\" style=\"pointer-events: none; fill: none; opacity: 1;\"></path><g><g class=\"mark-symbol role-legend-symbol\" style=\"pointer-events: none;\"><path transform=\"translate(6,6)\" d=\"M-5,-5h10v10h-10Z\" style=\"fill: #1f77b4; stroke-width: 1.5; opacity: 1;\"></path></g><g class=\"mark-text role-legend-label\" style=\"pointer-events: none;\"><text text-anchor=\"start\" transform=\"translate(16,9)\" style=\"font-family: sans-serif; font-size: 10px; fill: #000; opacity: 1;\">M</text></g></g></g></g></g></g></g><g class=\"mark-text role-legend-title\" style=\"pointer-events: none;\"><text text-anchor=\"start\" transform=\"translate(0,9)\" style=\"font-family: sans-serif; font-size: 11px; font-weight: bold; fill: #000; opacity: 1;\">gender</text></g></g></g></g><g class=\"mark-text role-title\" style=\"pointer-events: none;\"><text text-anchor=\"middle\" transform=\"translate(300,-12)\" style=\"font-family: sans-serif; font-size: 13px; font-weight: bold; fill: #000; opacity: 1;\">Adverse Events by Gender - Atacand 2017Q2</text></g><g class=\"mark-group role-axis\"><g transform=\"translate(0.5,400.5)\"><path class=\"background\" d=\"M0,0h0v0h0Z\" style=\"pointer-events: none; fill: none;\"></path><g><g class=\"mark-rule role-axis-tick\" style=\"pointer-events: none;\"><line transform=\"translate(99,0)\" x2=\"0\" y2=\"5\" style=\"fill: none; stroke: #888; stroke-width: 1; opacity: 1;\"></line><line transform=\"translate(299,0)\" x2=\"0\" y2=\"5\" style=\"fill: none; stroke: #888; stroke-width: 1; opacity: 1;\"></line><line transform=\"translate(499,0)\" x2=\"0\" y2=\"5\" style=\"fill: none; stroke: #888; stroke-width: 1; opacity: 1;\"></line></g><g class=\"mark-text role-axis-label\" style=\"pointer-events: none;\"><text text-anchor=\"end\" transform=\"translate(99,7) rotate(270) translate(0,3)\" style=\"font-family: sans-serif; font-size: 10px; fill: #000; opacity: 1;\">null</text><text text-anchor=\"end\" transform=\"translate(299,7) rotate(270) translate(0,3)\" style=\"font-family: sans-serif; font-size: 10px; fill: #000; opacity: 1;\">F</text><text text-anchor=\"end\" transform=\"translate(499,7) rotate(270) translate(0,3)\" style=\"font-family: sans-serif; font-size: 10px; fill: #000; opacity: 1;\">M</text></g><g class=\"mark-rule role-axis-domain\" style=\"pointer-events: none;\"><line transform=\"translate(0,0)\" x2=\"600\" y2=\"0\" style=\"fill: none; stroke: #888; stroke-width: 1; opacity: 1;\"></line></g><g class=\"mark-text role-axis-title\" style=\"pointer-events: none;\"><text text-anchor=\"middle\" transform=\"translate(300,36)\" style=\"font-family: sans-serif; font-size: 11px; font-weight: bold; fill: #000; opacity: 1;\">Gender</text></g></g></g></g><g class=\"mark-group role-axis\"><g transform=\"translate(0.5,0.5)\"><path class=\"background\" d=\"M0,0h0v0h0Z\" style=\"pointer-events: none; fill: none;\"></path><g><g class=\"mark-rule role-axis-tick\" style=\"pointer-events: none;\"><line transform=\"translate(0,400)\" x2=\"-5\" y2=\"0\" style=\"fill: none; stroke: #888; stroke-width: 1; opacity: 1;\"></line><line transform=\"translate(0,364)\" x2=\"-5\" y2=\"0\" style=\"fill: none; stroke: #888; stroke-width: 1; opacity: 1;\"></line><line transform=\"translate(0,327)\" x2=\"-5\" y2=\"0\" style=\"fill: none; stroke: #888; stroke-width: 1; opacity: 1;\"></line><line transform=\"translate(0,291)\" x2=\"-5\" y2=\"0\" style=\"fill: none; stroke: #888; stroke-width: 1; opacity: 1;\"></line><line transform=\"translate(0,255)\" x2=\"-5\" y2=\"0\" style=\"fill: none; stroke: #888; stroke-width: 1; opacity: 1;\"></line><line transform=\"translate(0,218)\" x2=\"-5\" y2=\"0\" style=\"fill: none; stroke: #888; stroke-width: 1; opacity: 1;\"></line><line transform=\"translate(0,182)\" x2=\"-5\" y2=\"0\" style=\"fill: none; stroke: #888; stroke-width: 1; opacity: 1;\"></line><line transform=\"translate(0,145)\" x2=\"-5\" y2=\"0\" style=\"fill: none; stroke: #888; stroke-width: 1; opacity: 1;\"></line><line transform=\"translate(0,109)\" x2=\"-5\" y2=\"0\" style=\"fill: none; stroke: #888; stroke-width: 1; opacity: 1;\"></line><line transform=\"translate(0,73)\" x2=\"-5\" y2=\"0\" style=\"fill: none; stroke: #888; stroke-width: 1; opacity: 1;\"></line><line transform=\"translate(0,36)\" x2=\"-5\" y2=\"0\" style=\"fill: none; stroke: #888; stroke-width: 1; opacity: 1;\"></line><line transform=\"translate(0,0)\" x2=\"-5\" y2=\"0\" style=\"fill: none; stroke: #888; stroke-width: 1; opacity: 1;\"></line></g><g class=\"mark-text role-axis-label\" style=\"pointer-events: none;\"><text text-anchor=\"end\" transform=\"translate(-7,403)\" style=\"font-family: sans-serif; font-size: 10px; fill: #000; opacity: 1;\">0</text><text text-anchor=\"end\" transform=\"translate(-7,366.6363636363636)\" style=\"font-family: sans-serif; font-size: 10px; fill: #000; opacity: 1;\">5</text><text text-anchor=\"end\" transform=\"translate(-7,330.27272727272725)\" style=\"font-family: sans-serif; font-size: 10px; fill: #000; opacity: 1;\">10</text><text text-anchor=\"end\" transform=\"translate(-7,293.90909090909093)\" style=\"font-family: sans-serif; font-size: 10px; fill: #000; opacity: 1;\">15</text><text text-anchor=\"end\" transform=\"translate(-7,257.5454545454545)\" style=\"font-family: sans-serif; font-size: 10px; fill: #000; opacity: 1;\">20</text><text text-anchor=\"end\" transform=\"translate(-7,221.1818181818182)\" style=\"font-family: sans-serif; font-size: 10px; fill: #000; opacity: 1;\">25</text><text text-anchor=\"end\" transform=\"translate(-7,184.81818181818184)\" style=\"font-family: sans-serif; font-size: 10px; fill: #000; opacity: 1;\">30</text><text text-anchor=\"end\" transform=\"translate(-7,148.45454545454547)\" style=\"font-family: sans-serif; font-size: 10px; fill: #000; opacity: 1;\">35</text><text text-anchor=\"end\" transform=\"translate(-7,112.09090909090907)\" style=\"font-family: sans-serif; font-size: 10px; fill: #000; opacity: 1;\">40</text><text text-anchor=\"end\" transform=\"translate(-7,75.72727272727269)\" style=\"font-family: sans-serif; font-size: 10px; fill: #000; opacity: 1;\">45</text><text text-anchor=\"end\" transform=\"translate(-7,39.363636363636374)\" style=\"font-family: sans-serif; font-size: 10px; fill: #000; opacity: 1;\">50</text><text text-anchor=\"end\" transform=\"translate(-7,3)\" style=\"font-family: sans-serif; font-size: 10px; fill: #000; opacity: 1;\">55</text></g><g class=\"mark-rule role-axis-domain\" style=\"pointer-events: none;\"><line transform=\"translate(0,400)\" x2=\"0\" y2=\"-400\" style=\"fill: none; stroke: #888; stroke-width: 1; opacity: 1;\"></line></g><g class=\"mark-text role-axis-title\" style=\"pointer-events: none;\"><text text-anchor=\"middle\" transform=\"translate(-21,200) rotate(-90) translate(0,-2)\" style=\"font-family: sans-serif; font-size: 11px; font-weight: bold; fill: #000; opacity: 1;\">Percent of AEs</text></g></g></g></g></g></g></g></g></svg>"
      ],
      "text/plain": [
       "VegaLite.VLSpec{:plot}"
      ]
     },
     "execution_count": 30,
     "metadata": {},
     "output_type": "execute_result"
    }
   ],
   "source": [
    "#Julia visualization using VegaLite v0.6.0\n",
    "using VegaLite\n",
    "\n",
    "piegen |> @vlplot(:bar, \n",
    "    x = {\"gender:n\", \n",
    "    axis = {title = \"Gender\"}},\n",
    "    title = \"Adverse Events by Gender - Atacand 2017Q2\", \n",
    "    y = {:gen_pct, axis = {title = \"Percent of AEs\"}}, \n",
    "    color = {\"gender:n\", scale = {range = [\"gray\", \"#e377c2\", \"#1f77b4\"]}},\n",
    "    height = 400,\n",
    "    width = 600)"
   ]
  },
  {
   "cell_type": "markdown",
   "metadata": {},
   "source": [
    "### Code: Bar chart of adverse events by age group - Atacand in 2017Q2"
   ]
  },
  {
   "cell_type": "code",
   "execution_count": 31,
   "metadata": {
    "scrolled": true
   },
   "outputs": [
    {
     "name": "stdout",
     "output_type": "stream",
     "text": [
      "PooledArrays.PooledArray{Union"
     ]
    },
    {
     "data": {
      "text/html": [
       "<table class=\"data-frame\"><thead><tr><th></th><th>primaryid</th><th>gender</th><th>pt</th><th>occr_country</th><th>drugname</th><th>age</th><th>age_grp</th><th>role_cod</th></tr><tr><th></th><th>Int64</th><th>String⍰</th><th>String⍰</th><th>String⍰</th><th>String</th><th>Int64⍰</th><th>String⍰</th><th>String</th></tr></thead><tbody><p>1,173 rows × 14 columns (omitted printing of 6 columns)</p><tr><th>1</th><td>1070043015</td><td>F</td><td>Dyspnoea</td><td>IL</td><td>ATACAND</td><td>66</td><td>missing</td><td>C</td></tr><tr><th>2</th><td>121678239</td><td>M</td><td>Dyspnoea</td><td>LB</td><td>ATACAND</td><td>56</td><td>missing</td><td>C</td></tr><tr><th>3</th><td>121678239</td><td>M</td><td>Dyspnoea</td><td>LB</td><td>ATACAND</td><td>56</td><td>missing</td><td>C</td></tr><tr><th>4</th><td>124472756</td><td>M</td><td>Dyspnoea</td><td>CA</td><td>ATACAND</td><td>83</td><td>missing</td><td>C</td></tr><tr><th>5</th><td>124472756</td><td>M</td><td>Dyspnoea</td><td>CA</td><td>ATACAND</td><td>83</td><td>missing</td><td>C</td></tr><tr><th>&vellip;</th><td>&vellip;</td><td>&vellip;</td><td>&vellip;</td><td>&vellip;</td><td>&vellip;</td><td>&vellip;</td><td>&vellip;</td><td>&vellip;</td></tr></tbody></table>"
      ],
      "text/latex": [
       "\\begin{tabular}{r|ccccccccc}\n",
       "\t& primaryid & gender & pt & occr\\_country & drugname & age & age\\_grp & role\\_cod & \\\\\n",
       "\t\\hline\n",
       "\t& Int64 & String⍰ & String⍰ & String⍰ & String & Int64⍰ & String⍰ & String & \\\\\n",
       "\t\\hline\n",
       "\t1 & 1070043015 & F & Dyspnoea & IL & ATACAND & 66 &  & C & $\\dots$ \\\\\n",
       "\t2 & 121678239 & M & Dyspnoea & LB & ATACAND & 56 &  & C & $\\dots$ \\\\\n",
       "\t3 & 121678239 & M & Dyspnoea & LB & ATACAND & 56 &  & C & $\\dots$ \\\\\n",
       "\t4 & 124472756 & M & Dyspnoea & CA & ATACAND & 83 &  & C & $\\dots$ \\\\\n",
       "\t5 & 124472756 & M & Dyspnoea & CA & ATACAND & 83 &  & C & $\\dots$ \\\\\n",
       "\t$\\dots$ & $\\dots$ & $\\dots$ & $\\dots$ & $\\dots$ & $\\dots$ & $\\dots$ & $\\dots$ & $\\dots$ &  \\\\\n",
       "\\end{tabular}\n"
      ],
      "text/plain": [
       "1173×14 DataFrame\n"
      ]
     },
     "metadata": {},
     "output_type": "display_data"
    },
    {
     "name": "stdout",
     "output_type": "stream",
     "text": [
      "{Missing, String},UInt32,1,Array{UInt32,1}}\n"
     ]
    },
    {
     "data": {
      "text/html": [
       "<table class=\"data-frame\"><thead><tr><th></th><th>age_grp</th><th>frequency</th></tr><tr><th></th><th>String⍰</th><th>Int64</th></tr></thead><tbody><p>3 rows × 2 columns</p><tr><th>1</th><td>missing</td><td>1043</td></tr><tr><th>2</th><td>E</td><td>69</td></tr><tr><th>3</th><td>A</td><td>61</td></tr></tbody></table>"
      ],
      "text/latex": [
       "\\begin{tabular}{r|cc}\n",
       "\t& age\\_grp & frequency\\\\\n",
       "\t\\hline\n",
       "\t& String⍰ & Int64\\\\\n",
       "\t\\hline\n",
       "\t1 &  & 1043 \\\\\n",
       "\t2 & E & 69 \\\\\n",
       "\t3 & A & 61 \\\\\n",
       "\\end{tabular}\n"
      ],
      "text/plain": [
       "3×2 DataFrame\n",
       "│ Row │ age_grp │ frequency │\n",
       "│     │ \u001b[90mString⍰\u001b[39m │ \u001b[90mInt64\u001b[39m     │\n",
       "├─────┼─────────┼───────────┤\n",
       "│ 1   │ \u001b[90mmissing\u001b[39m │ 1043      │\n",
       "│ 2   │ E       │ 69        │\n",
       "│ 3   │ A       │ 61        │"
      ]
     },
     "execution_count": 31,
     "metadata": {},
     "output_type": "execute_result"
    }
   ],
   "source": [
    "# Set up data presentation on Atacand age group - pie/bar charts\n",
    "\n",
    "# Setup a dataframe to be used for graphing\n",
    "attag = by(datt, :age_grp, nrow)\n",
    "    println(typeof(attag[:age_grp]))\n",
    "    sort!(attag, :x1, rev = true)\n",
    "    rename!(attag, :x1 => :frequency)\n",
    "\n",
    "# Check the numbers\n",
    "displayrecs(datt, 5)\n",
    "\n",
    "# Show dataframe attag\n",
    "first(attag, 10)"
   ]
  },
  {
   "cell_type": "code",
   "execution_count": 32,
   "metadata": {},
   "outputs": [
    {
     "data": {
      "application/vnd.vegalite.v3+json": {
       "data": {
        "values": [
         {
          "age_grp": null,
          "frequency": 1043
         },
         {
          "age_grp": "E",
          "frequency": 69
         },
         {
          "age_grp": "A",
          "frequency": 61
         }
        ]
       },
       "encoding": {
        "color": {
         "field": "age_grp",
         "scale": {
          "domain": [
           "N",
           "I",
           "C",
           "T",
           "A",
           "E",
           "null"
          ],
          "range": [
           "#1f77b4",
           "#e7ba52",
           "#c7c7c7",
           "#e377c2",
           "#aec7e8",
           "#9467bd",
           "gray"
          ]
         },
         "type": "nominal"
        },
        "x": {
         "axis": {
          "title": "Adverse Events - (A)dult, (E)lderly "
         },
         "field": "frequency",
         "type": "quantitative"
        },
        "y": {
         "axis": {
          "title": "Age Group"
         },
         "field": "age_grp",
         "type": "nominal"
        }
       },
       "height": 400,
       "mark": "bar",
       "title": "Adverse Events by Age Group - Attacand 2017Q2",
       "width": 600
      },
      "image/png": "[encoded data removed]",
      "image/svg+xml": [
       "<svg class=\"marks\" width=\"713\" height=\"459\" viewBox=\"0 0 713 459\" version=\"1.1\" xmlns=\"http://www.w3.org/2000/svg\" xmlns:xlink=\"http://www.w3.org/1999/xlink\"><g transform=\"translate(43,22)\"><g class=\"mark-group role-frame root\"><g transform=\"translate(0,0)\"><path class=\"background\" d=\"M0.5,0.5h600v400h-600Z\" style=\"fill: none; stroke: #ddd;\"></path><g><g class=\"mark-group role-axis\"><g transform=\"translate(0.5,400.5)\"><path class=\"background\" d=\"M0,0h0v0h0Z\" style=\"pointer-events: none; fill: none;\"></path><g><g class=\"mark-rule role-axis-grid\" style=\"pointer-events: none;\"><line transform=\"translate(0,0)\" x2=\"0\" y2=\"-400\" style=\"fill: none; stroke: #ddd; stroke-width: 1; opacity: 1;\"></line><line transform=\"translate(55,0)\" x2=\"0\" y2=\"-400\" style=\"fill: none; stroke: #ddd; stroke-width: 1; opacity: 1;\"></line><line transform=\"translate(109,0)\" x2=\"0\" y2=\"-400\" style=\"fill: none; stroke: #ddd; stroke-width: 1; opacity: 1;\"></line><line transform=\"translate(164,0)\" x2=\"0\" y2=\"-400\" style=\"fill: none; stroke: #ddd; stroke-width: 1; opacity: 1;\"></line><line transform=\"translate(218,0)\" x2=\"0\" y2=\"-400\" style=\"fill: none; stroke: #ddd; stroke-width: 1; opacity: 1;\"></line><line transform=\"translate(273,0)\" x2=\"0\" y2=\"-400\" style=\"fill: none; stroke: #ddd; stroke-width: 1; opacity: 1;\"></line><line transform=\"translate(327,0)\" x2=\"0\" y2=\"-400\" style=\"fill: none; stroke: #ddd; stroke-width: 1; opacity: 1;\"></line><line transform=\"translate(382,0)\" x2=\"0\" y2=\"-400\" style=\"fill: none; stroke: #ddd; stroke-width: 1; opacity: 1;\"></line><line transform=\"translate(436,0)\" x2=\"0\" y2=\"-400\" style=\"fill: none; stroke: #ddd; stroke-width: 1; opacity: 1;\"></line><line transform=\"translate(491,0)\" x2=\"0\" y2=\"-400\" style=\"fill: none; stroke: #ddd; stroke-width: 1; opacity: 1;\"></line><line transform=\"translate(545,0)\" x2=\"0\" y2=\"-400\" style=\"fill: none; stroke: #ddd; stroke-width: 1; opacity: 1;\"></line><line transform=\"translate(600,0)\" x2=\"0\" y2=\"-400\" style=\"fill: none; stroke: #ddd; stroke-width: 1; opacity: 1;\"></line></g></g></g></g><g class=\"mark-rect role-mark marks\"><path d=\"M0,6.666666666666657h568.909090909091v120.00000000000001h-568.909090909091Z\" style=\"fill: gray;\"></path><path d=\"M0,273.33333333333337h37.63636363636364v120.00000000000001h-37.63636363636364Z\" style=\"fill: #9467bd;\"></path><path d=\"M0,140h33.27272727272727v120.00000000000001h-33.27272727272727Z\" style=\"fill: #aec7e8;\"></path></g><g class=\"mark-group role-legend\"><g transform=\"translate(618,0)\"><path class=\"background\" d=\"M0,0h47v105h-47Z\" style=\"pointer-events: none; fill: none;\"></path><g><g class=\"mark-group role-legend-entry\"><g transform=\"translate(0,16)\"><path class=\"background\" d=\"M0,0h0v0h0Z\" style=\"pointer-events: none; fill: none;\"></path><g><g class=\"mark-group role-scope\"><g transform=\"translate(0,0)\"><path class=\"background\" d=\"M0,0h32v11h-32Z\" style=\"pointer-events: none; fill: none; opacity: 1;\"></path><g><g class=\"mark-symbol role-legend-symbol\" style=\"pointer-events: none;\"><path transform=\"translate(6,6)\" d=\"M-5,-5h10v10h-10Z\" style=\"fill: #1f77b4; stroke-width: 1.5; opacity: 1;\"></path></g><g class=\"mark-text role-legend-label\" style=\"pointer-events: none;\"><text text-anchor=\"start\" transform=\"translate(16,9)\" style=\"font-family: sans-serif; font-size: 10px; fill: #000; opacity: 1;\">N</text></g></g></g><g transform=\"translate(0,13)\"><path class=\"background\" d=\"M0,0h32v11h-32Z\" style=\"pointer-events: none; fill: none; opacity: 1;\"></path><g><g class=\"mark-symbol role-legend-symbol\" style=\"pointer-events: none;\"><path transform=\"translate(6,6)\" d=\"M-5,-5h10v10h-10Z\" style=\"fill: #e7ba52; stroke-width: 1.5; opacity: 1;\"></path></g><g class=\"mark-text role-legend-label\" style=\"pointer-events: none;\"><text text-anchor=\"start\" transform=\"translate(16,9)\" style=\"font-family: sans-serif; font-size: 10px; fill: #000; opacity: 1;\">I</text></g></g></g><g transform=\"translate(0,26)\"><path class=\"background\" d=\"M0,0h32v11h-32Z\" style=\"pointer-events: none; fill: none; opacity: 1;\"></path><g><g class=\"mark-symbol role-legend-symbol\" style=\"pointer-events: none;\"><path transform=\"translate(6,6)\" d=\"M-5,-5h10v10h-10Z\" style=\"fill: #c7c7c7; stroke-width: 1.5; opacity: 1;\"></path></g><g class=\"mark-text role-legend-label\" style=\"pointer-events: none;\"><text text-anchor=\"start\" transform=\"translate(16,9)\" style=\"font-family: sans-serif; font-size: 10px; fill: #000; opacity: 1;\">C</text></g></g></g><g transform=\"translate(0,39)\"><path class=\"background\" d=\"M0,0h32v11h-32Z\" style=\"pointer-events: none; fill: none; opacity: 1;\"></path><g><g class=\"mark-symbol role-legend-symbol\" style=\"pointer-events: none;\"><path transform=\"translate(6,6)\" d=\"M-5,-5h10v10h-10Z\" style=\"fill: #e377c2; stroke-width: 1.5; opacity: 1;\"></path></g><g class=\"mark-text role-legend-label\" style=\"pointer-events: none;\"><text text-anchor=\"start\" transform=\"translate(16,9)\" style=\"font-family: sans-serif; font-size: 10px; fill: #000; opacity: 1;\">T</text></g></g></g><g transform=\"translate(0,52)\"><path class=\"background\" d=\"M0,0h32v11h-32Z\" style=\"pointer-events: none; fill: none; opacity: 1;\"></path><g><g class=\"mark-symbol role-legend-symbol\" style=\"pointer-events: none;\"><path transform=\"translate(6,6)\" d=\"M-5,-5h10v10h-10Z\" style=\"fill: #aec7e8; stroke-width: 1.5; opacity: 1;\"></path></g><g class=\"mark-text role-legend-label\" style=\"pointer-events: none;\"><text text-anchor=\"start\" transform=\"translate(16,9)\" style=\"font-family: sans-serif; font-size: 10px; fill: #000; opacity: 1;\">A</text></g></g></g><g transform=\"translate(0,65)\"><path class=\"background\" d=\"M0,0h32v11h-32Z\" style=\"pointer-events: none; fill: none; opacity: 1;\"></path><g><g class=\"mark-symbol role-legend-symbol\" style=\"pointer-events: none;\"><path transform=\"translate(6,6)\" d=\"M-5,-5h10v10h-10Z\" style=\"fill: #9467bd; stroke-width: 1.5; opacity: 1;\"></path></g><g class=\"mark-text role-legend-label\" style=\"pointer-events: none;\"><text text-anchor=\"start\" transform=\"translate(16,9)\" style=\"font-family: sans-serif; font-size: 10px; fill: #000; opacity: 1;\">E</text></g></g></g><g transform=\"translate(0,78)\"><path class=\"background\" d=\"M0,0h32v11h-32Z\" style=\"pointer-events: none; fill: none; opacity: 1;\"></path><g><g class=\"mark-symbol role-legend-symbol\" style=\"pointer-events: none;\"><path transform=\"translate(6,6)\" d=\"M-5,-5h10v10h-10Z\" style=\"fill: gray; stroke-width: 1.5; opacity: 1;\"></path></g><g class=\"mark-text role-legend-label\" style=\"pointer-events: none;\"><text text-anchor=\"start\" transform=\"translate(16,9)\" style=\"font-family: sans-serif; font-size: 10px; fill: #000; opacity: 1;\">null</text></g></g></g></g></g></g></g><g class=\"mark-text role-legend-title\" style=\"pointer-events: none;\"><text text-anchor=\"start\" transform=\"translate(0,9)\" style=\"font-family: sans-serif; font-size: 11px; font-weight: bold; fill: #000; opacity: 1;\">age_grp</text></g></g></g></g><g class=\"mark-text role-title\" style=\"pointer-events: none;\"><text text-anchor=\"middle\" transform=\"translate(300,-7)\" style=\"font-family: sans-serif; font-size: 13px; font-weight: bold; fill: #000; opacity: 1;\">Adverse Events by Age Group - Attacand 2017Q2</text></g><g class=\"mark-group role-axis\"><g transform=\"translate(0.5,400.5)\"><path class=\"background\" d=\"M0,0h0v0h0Z\" style=\"pointer-events: none; fill: none;\"></path><g><g class=\"mark-rule role-axis-tick\" style=\"pointer-events: none;\"><line transform=\"translate(0,0)\" x2=\"0\" y2=\"5\" style=\"fill: none; stroke: #888; stroke-width: 1; opacity: 1;\"></line><line transform=\"translate(55,0)\" x2=\"0\" y2=\"5\" style=\"fill: none; stroke: #888; stroke-width: 1; opacity: 1;\"></line><line transform=\"translate(109,0)\" x2=\"0\" y2=\"5\" style=\"fill: none; stroke: #888; stroke-width: 1; opacity: 1;\"></line><line transform=\"translate(164,0)\" x2=\"0\" y2=\"5\" style=\"fill: none; stroke: #888; stroke-width: 1; opacity: 1;\"></line><line transform=\"translate(218,0)\" x2=\"0\" y2=\"5\" style=\"fill: none; stroke: #888; stroke-width: 1; opacity: 1;\"></line><line transform=\"translate(273,0)\" x2=\"0\" y2=\"5\" style=\"fill: none; stroke: #888; stroke-width: 1; opacity: 1;\"></line><line transform=\"translate(327,0)\" x2=\"0\" y2=\"5\" style=\"fill: none; stroke: #888; stroke-width: 1; opacity: 1;\"></line><line transform=\"translate(382,0)\" x2=\"0\" y2=\"5\" style=\"fill: none; stroke: #888; stroke-width: 1; opacity: 1;\"></line><line transform=\"translate(436,0)\" x2=\"0\" y2=\"5\" style=\"fill: none; stroke: #888; stroke-width: 1; opacity: 1;\"></line><line transform=\"translate(491,0)\" x2=\"0\" y2=\"5\" style=\"fill: none; stroke: #888; stroke-width: 1; opacity: 1;\"></line><line transform=\"translate(545,0)\" x2=\"0\" y2=\"5\" style=\"fill: none; stroke: #888; stroke-width: 1; opacity: 1;\"></line><line transform=\"translate(600,0)\" x2=\"0\" y2=\"5\" style=\"fill: none; stroke: #888; stroke-width: 1; opacity: 1;\"></line></g><g class=\"mark-text role-axis-label\" style=\"pointer-events: none;\"><text text-anchor=\"start\" transform=\"translate(0,15)\" style=\"font-family: sans-serif; font-size: 10px; fill: #000; opacity: 1;\">0</text><text text-anchor=\"middle\" transform=\"translate(54.54545454545455,15)\" style=\"font-family: sans-serif; font-size: 10px; fill: #000; opacity: 1;\">100</text><text text-anchor=\"middle\" transform=\"translate(109.0909090909091,15)\" style=\"font-family: sans-serif; font-size: 10px; fill: #000; opacity: 1;\">200</text><text text-anchor=\"middle\" transform=\"translate(163.63636363636363,15)\" style=\"font-family: sans-serif; font-size: 10px; fill: #000; opacity: 1;\">300</text><text text-anchor=\"middle\" transform=\"translate(218.1818181818182,15)\" style=\"font-family: sans-serif; font-size: 10px; fill: #000; opacity: 1;\">400</text><text text-anchor=\"middle\" transform=\"translate(272.7272727272727,15)\" style=\"font-family: sans-serif; font-size: 10px; fill: #000; opacity: 1;\">500</text><text text-anchor=\"middle\" transform=\"translate(327.27272727272725,15)\" style=\"font-family: sans-serif; font-size: 10px; fill: #000; opacity: 1;\">600</text><text text-anchor=\"middle\" transform=\"translate(381.8181818181818,15)\" style=\"font-family: sans-serif; font-size: 10px; fill: #000; opacity: 1;\">700</text><text text-anchor=\"middle\" transform=\"translate(436.3636363636364,15)\" style=\"font-family: sans-serif; font-size: 10px; fill: #000; opacity: 1;\">800</text><text text-anchor=\"middle\" transform=\"translate(490.90909090909093,15)\" style=\"font-family: sans-serif; font-size: 10px; fill: #000; opacity: 1;\">900</text><text text-anchor=\"middle\" transform=\"translate(545.4545454545454,15)\" style=\"font-family: sans-serif; font-size: 10px; fill: #000; opacity: 1;\">1,000</text><text text-anchor=\"end\" transform=\"translate(600,15)\" style=\"font-family: sans-serif; font-size: 10px; fill: #000; opacity: 1;\">1,100</text></g><g class=\"mark-rule role-axis-domain\" style=\"pointer-events: none;\"><line transform=\"translate(0,0)\" x2=\"600\" y2=\"0\" style=\"fill: none; stroke: #888; stroke-width: 1; opacity: 1;\"></line></g><g class=\"mark-text role-axis-title\" style=\"pointer-events: none;\"><text text-anchor=\"middle\" transform=\"translate(300,30)\" style=\"font-family: sans-serif; font-size: 11px; font-weight: bold; fill: #000; opacity: 1;\">Adverse Events - (A)dult, (E)lderly </text></g></g></g></g><g class=\"mark-group role-axis\"><g transform=\"translate(0.5,0.5)\"><path class=\"background\" d=\"M0,0h0v0h0Z\" style=\"pointer-events: none; fill: none;\"></path><g><g class=\"mark-rule role-axis-tick\" style=\"pointer-events: none;\"><line transform=\"translate(0,66)\" x2=\"-5\" y2=\"0\" style=\"fill: none; stroke: #888; stroke-width: 1; opacity: 1;\"></line><line transform=\"translate(0,199)\" x2=\"-5\" y2=\"0\" style=\"fill: none; stroke: #888; stroke-width: 1; opacity: 1;\"></line><line transform=\"translate(0,332)\" x2=\"-5\" y2=\"0\" style=\"fill: none; stroke: #888; stroke-width: 1; opacity: 1;\"></line></g><g class=\"mark-text role-axis-label\" style=\"pointer-events: none;\"><text text-anchor=\"end\" transform=\"translate(-7,68.66666666666666)\" style=\"font-family: sans-serif; font-size: 10px; fill: #000; opacity: 1;\">null</text><text text-anchor=\"end\" transform=\"translate(-7,202)\" style=\"font-family: sans-serif; font-size: 10px; fill: #000; opacity: 1;\">A</text><text text-anchor=\"end\" transform=\"translate(-7,335.33333333333337)\" style=\"font-family: sans-serif; font-size: 10px; fill: #000; opacity: 1;\">E</text></g><g class=\"mark-rule role-axis-domain\" style=\"pointer-events: none;\"><line transform=\"translate(0,0)\" x2=\"0\" y2=\"400\" style=\"fill: none; stroke: #888; stroke-width: 1; opacity: 1;\"></line></g><g class=\"mark-text role-axis-title\" style=\"pointer-events: none;\"><text text-anchor=\"middle\" transform=\"translate(-27,200) rotate(-90) translate(0,-2)\" style=\"font-family: sans-serif; font-size: 11px; font-weight: bold; fill: #000; opacity: 1;\">Age Group</text></g></g></g></g></g></g></g></g></svg>"
      ],
      "text/plain": [
       "VegaLite.VLSpec{:plot}"
      ]
     },
     "execution_count": 32,
     "metadata": {},
     "output_type": "execute_result"
    }
   ],
   "source": [
    "#Julia visualization using VegaLite v0.6.0\n",
    "using VegaLite\n",
    "\n",
    "attag |> @vlplot(:bar, \n",
    "    x = {:frequency, axis = {title = \"Adverse Events - (A)dult, (E)lderly \"}},\n",
    "    title = \"Adverse Events by Age Group - Attacand 2017Q2\", \n",
    "    y = {\n",
    "        :age_grp, \n",
    "        axis={\n",
    "            title=\"Age Group\"}\n",
    "        }, \n",
    "    color = {\n",
    "        :age_grp, \n",
    "        scale={\n",
    "            domain=[\"N\",\"I\",\"C\",\"T\",\"A\",\"E\",\"null\"],\n",
    "            range=[\"#1f77b4\",\"#e7ba52\",\"#c7c7c7\",\"#e377c2\",\"#aec7e8\",\"#9467bd\",\"gray\"]\n",
    "            }\n",
    "        },\n",
    "    height=400,\n",
    "    width=600)"
   ]
  },
  {
   "cell_type": "markdown",
   "metadata": {},
   "source": [
    "### Code: Bar chart of adverse events by role of drug - Atacand in 2017Q2"
   ]
  },
  {
   "cell_type": "code",
   "execution_count": null,
   "metadata": {},
   "outputs": [],
   "source": [
    "# Set up data presentation on Atacand by role of drug - pie/bar charts\n",
    "\n",
    "# Setup a dataframe to be used for graphing\n",
    "attar = by(datt, :role_cod, nrow)\n",
    "    println(typeof(attar[:role_cod]))\n",
    "    sort!(attar, :x1, rev = true)\n",
    "    rename!(attar, :x1 => :frequency)\n",
    "\n",
    "# Check the numbers\n",
    "displayrecs(attar, 5)"
   ]
  },
  {
   "cell_type": "code",
   "execution_count": null,
   "metadata": {},
   "outputs": [],
   "source": [
    "#Julia visualization using VegaLite v0.6.0\n",
    "using VegaLite\n",
    "\n",
    "attar |> @vlplot(:bar, \n",
    "    x = {:frequency, \n",
    "        axis = {title=\"Role of the Drug - \n",
    "                        (PS)Primary Suspect Drug, (SS) Secondary Suspect Drug,\n",
    "                        (C)Concomitant, (I)Interacting\"}\n",
    "                },\n",
    "        title = \"Adverse Events by Role of the Drug - Attacand 2017Q2\", \n",
    "        y = {:role_cod, \n",
    "            axis={\n",
    "                title=\"Role of the Drug\"\n",
    "                }\n",
    "            }, \n",
    "        color = {:role_cod, \n",
    "            scale = {\n",
    "                domain=[\"C\",\"PS\",\"SS\",\"I\",\"null\"],\n",
    "                range=[\"#1f77b4\",\"#e7ba52\",\"#c7c7c7\",\"#e377c2\",\"gray\"]\n",
    "               }\n",
    "            },\n",
    "        height=400,\n",
    "        width=600)"
   ]
  },
  {
   "cell_type": "markdown",
   "metadata": {},
   "source": [
    "### Code: Heat Map of adverse events - Atacand in 2017Q2"
   ]
  },
  {
   "cell_type": "code",
   "execution_count": null,
   "metadata": {},
   "outputs": [],
   "source": [
    "# Adverse Events Heat Map for 2017Q2 with all drug totals \n",
    "\n",
    "# Bring the all drug totals onto the Atacand rows by :primaryid\n",
    "attau = unique(datt[:, [:pt, :count_dpt_17q2, :count_percentage_17q2]])\n",
    "allau = unique(dall[:, [:pt, :count_pt_17q2, :alldptpc]])\n",
    "\n",
    "atthma = join(attau, allau[:, [:pt, :count_pt_17q2, :alldptpc]], on = :pt, kind = :left)\n",
    "\n",
    "# Number of records\n",
    "@prtnumrecs(atthma)\n",
    "\n",
    "# Show dataframe attag\n",
    "first(atthma, 30)"
   ]
  },
  {
   "cell_type": "markdown",
   "metadata": {},
   "source": [
    "### Code: Display world map charting patients with adverse events with Atacand in 2017Q2"
   ]
  },
  {
   "cell_type": "code",
   "execution_count": null,
   "metadata": {},
   "outputs": [],
   "source": [
    "# Adverse Events Heat Map for 2017Q2 with all drug totals\n",
    "\n",
    "# Bring all the drug totals onto the Atacand rows by :primaryid\n",
    "attapts = unique(datt[:, [:primaryid]]) \n",
    "\n",
    "# Check the numbers\n",
    "@prtnumrecs(attapts)\n",
    "\n",
    "# Show dataframe attapts\n",
    "first(attapts, 30)\n",
    "\n",
    "# Subset for country\n",
    "attcntry = unique(datt[:, [:occr_country]])\n",
    "\n",
    "# Check the numbers\n",
    "@prtnumrecs(attcntry)\n",
    "\n",
    "# Show dataframe attag\n",
    "first(attcntry, 30)"
   ]
  },
  {
   "cell_type": "code",
   "execution_count": null,
   "metadata": {},
   "outputs": [],
   "source": [
    "# Adverse events by country\n",
    "\n",
    "# Table for now, as a placeholder for a choropleth map.  Consider the JuliaGeo library\n",
    "d1 = unique(faers17q2_4[:, [:primaryid, :pt, :occr_country]])\n",
    "d2 = by(d1, :occr_country,\n",
    "    d -> DataFrame(Frequency = nrow(d)))\n",
    "sort!(d2, :Frequency, rev = true)\n",
    "\n",
    "displayrecs(d2, 5)\n"
   ]
  },
  {
   "cell_type": "code",
   "execution_count": null,
   "metadata": {},
   "outputs": [],
   "source": [
    "# Get total number of adverse events from all drugs in 17q2\n",
    "# d1 = unique(faers17q2_4[:, [:primaryid, :sex, :pt, :occr_country, :drugname]])\n",
    "d2 = by(faers17q2_4, [:pt, :count_pt_17q2], \n",
    "    d -> DataFrame(Frequency = nrow(d)))\n",
    "sort!(d2, :Frequency, rev = true)\n",
    "allaes17q2 = first(d2, 60)"
   ]
  },
  {
   "cell_type": "code",
   "execution_count": null,
   "metadata": {},
   "outputs": [],
   "source": []
  }
 ],
 "metadata": {
  "@webio": {
   "lastCommId": null,
   "lastKernelId": null
  },
  "kernelspec": {
   "display_name": "Julia 1.1.1",
   "language": "julia",
   "name": "julia-1.1"
  },
  "language_info": {
   "file_extension": ".jl",
   "mimetype": "application/julia",
   "name": "julia",
   "version": "1.1.1"
  }
 },
 "nbformat": 4,
 "nbformat_minor": 2
}
